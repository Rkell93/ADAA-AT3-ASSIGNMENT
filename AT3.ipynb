{
  "nbformat": 4,
  "nbformat_minor": 0,
  "metadata": {
    "colab": {
      "name": "Untitled3.ipynb",
      "provenance": [],
      "include_colab_link": true
    },
    "kernelspec": {
      "name": "python3",
      "display_name": "Python 3"
    }
  },
  "cells": [
    {
      "cell_type": "markdown",
      "metadata": {
        "id": "view-in-github",
        "colab_type": "text"
      },
      "source": [
        "<a href=\"https://colab.research.google.com/github/Rkell93/ADAA-AT3-ASSIGNMENT/blob/master/AT3.ipynb\" target=\"_parent\"><img src=\"https://colab.research.google.com/assets/colab-badge.svg\" alt=\"Open In Colab\"/></a>"
      ]
    },
    {
      "cell_type": "markdown",
      "metadata": {
        "id": "6SVbntPvdNhr",
        "colab_type": "text"
      },
      "source": [
        "# The Detection of Exoplanets and Determination of their Atmosphere using NASA Transmission Spectroscopy Data "
      ]
    },
    {
      "cell_type": "markdown",
      "metadata": {
        "id": "nfbDVDBNd-Ed",
        "colab_type": "text"
      },
      "source": [
        "AIMS"
      ]
    },
    {
      "cell_type": "markdown",
      "metadata": {
        "id": "UsT4RJOid_7c",
        "colab_type": "text"
      },
      "source": [
        "BACKGROUND"
      ]
    },
    {
      "cell_type": "markdown",
      "metadata": {
        "id": "WD3epRHUeFTL",
        "colab_type": "text"
      },
      "source": [
        "RESEARCH PROJECT"
      ]
    },
    {
      "cell_type": "markdown",
      "metadata": {
        "id": "EYa0G4xdeIU7",
        "colab_type": "text"
      },
      "source": [
        "BUDGET"
      ]
    },
    {
      "cell_type": "markdown",
      "metadata": {
        "id": "cX6gzlwfeJFb",
        "colab_type": "text"
      },
      "source": [
        "PERSONNEL"
      ]
    },
    {
      "cell_type": "markdown",
      "metadata": {
        "id": "RUMDjXsneLQE",
        "colab_type": "text"
      },
      "source": [
        "REFERENCES"
      ]
    }
  ]
}