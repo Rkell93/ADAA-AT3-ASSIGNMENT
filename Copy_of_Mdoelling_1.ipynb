{
  "nbformat": 4,
  "nbformat_minor": 0,
  "metadata": {
    "colab": {
      "name": "Copy of Mdoelling_1.ipynb",
      "provenance": [],
      "include_colab_link": true
    },
    "kernelspec": {
      "name": "python3",
      "display_name": "Python 3"
    },
    "accelerator": "GPU"
  },
  "cells": [
    {
      "cell_type": "markdown",
      "metadata": {
        "id": "view-in-github",
        "colab_type": "text"
      },
      "source": [
        "<a href=\"https://colab.research.google.com/github/Rkell93/ADAA-AT3-ASSIGNMENT/blob/master/Copy_of_Mdoelling_1.ipynb\" target=\"_parent\"><img src=\"https://colab.research.google.com/assets/colab-badge.svg\" alt=\"Open In Colab\"/></a>"
      ]
    },
    {
      "cell_type": "markdown",
      "metadata": {
        "id": "TL8II2wcPR5Y",
        "colab_type": "text"
      },
      "source": [
        "# ILab2"
      ]
    },
    {
      "cell_type": "markdown",
      "metadata": {
        "id": "C60ldDTpsDQ_",
        "colab_type": "text"
      },
      "source": [
        "# Libraries"
      ]
    },
    {
      "cell_type": "code",
      "metadata": {
        "id": "GkQOGqYGr3t-",
        "colab_type": "code",
        "colab": {
          "base_uri": "https://localhost:8080/",
          "height": 72
        },
        "outputId": "db69ce96-98c9-415c-c0d3-c49af0d1b2d5"
      },
      "source": [
        "import pandas as pd\n",
        "import numpy as np\n",
        "import seaborn as sns"
      ],
      "execution_count": null,
      "outputs": [
        {
          "output_type": "stream",
          "text": [
            "/usr/local/lib/python3.6/dist-packages/statsmodels/tools/_testing.py:19: FutureWarning: pandas.util.testing is deprecated. Use the functions in the public API at pandas.testing instead.\n",
            "  import pandas.util.testing as tm\n"
          ],
          "name": "stderr"
        }
      ]
    },
    {
      "cell_type": "markdown",
      "metadata": {
        "id": "xCaOJmTlGuOS",
        "colab_type": "text"
      },
      "source": [
        "# Data Set BITFINIX EXCHANGE - DAILY"
      ]
    },
    {
      "cell_type": "markdown",
      "metadata": {
        "id": "GNwn3X8fIScK",
        "colab_type": "text"
      },
      "source": [
        "## Bitcoin"
      ]
    },
    {
      "cell_type": "code",
      "metadata": {
        "id": "plgV2djTGtq2",
        "colab_type": "code",
        "colab": {}
      },
      "source": [
        "BITC_BITFINIX_url = \"https://raw.githubusercontent.com/DonaldTurton/iLab2/master/Bitcoin/BITFINEX_BTCUSD%2C%201D.csv\"\n",
        "\n",
        "bitcoin_daily = pd.read_csv (BITC_BITFINIX_url)"
      ],
      "execution_count": null,
      "outputs": []
    },
    {
      "cell_type": "markdown",
      "metadata": {
        "id": "D6A09Q6HUl_u",
        "colab_type": "text"
      },
      "source": [
        "### Ethereum"
      ]
    },
    {
      "cell_type": "code",
      "metadata": {
        "colab_type": "code",
        "id": "zn8f-ILdUv4G",
        "colab": {}
      },
      "source": [
        "ETHERIUM_BITFINIX_url= 'https://raw.githubusercontent.com/DonaldTurton/iLab2/master/Ethereum/BITFINEX_ETHUSD%2C%201D.csv'"
      ],
      "execution_count": null,
      "outputs": []
    },
    {
      "cell_type": "code",
      "metadata": {
        "colab_type": "code",
        "id": "sxrpGy0_Uv4N",
        "colab": {}
      },
      "source": [
        "ethereum_daily = pd.read_csv(ETHERIUM_BITFINIX_url) "
      ],
      "execution_count": null,
      "outputs": []
    },
    {
      "cell_type": "markdown",
      "metadata": {
        "id": "zXiqp9E3Vltr",
        "colab_type": "text"
      },
      "source": [
        "### Ripple "
      ]
    },
    {
      "cell_type": "code",
      "metadata": {
        "colab_type": "code",
        "id": "9xWWOpyqVxY1",
        "colab": {}
      },
      "source": [
        "RIPPLE_BITFINIX_url= 'https://raw.githubusercontent.com/DonaldTurton/iLab2/master/Ripple/BITFINEX_XRPUSD%2C%201D.csv'"
      ],
      "execution_count": null,
      "outputs": []
    },
    {
      "cell_type": "code",
      "metadata": {
        "colab_type": "code",
        "id": "I0ionDoyVxY7",
        "colab": {}
      },
      "source": [
        "ripple_daily = pd.read_csv(RIPPLE_BITFINIX_url)"
      ],
      "execution_count": null,
      "outputs": []
    },
    {
      "cell_type": "markdown",
      "metadata": {
        "colab_type": "text",
        "id": "jg87Vw4tPQoC"
      },
      "source": [
        "## Subset DF"
      ]
    },
    {
      "cell_type": "markdown",
      "metadata": {
        "id": "ASUuqPxYaDeR",
        "colab_type": "text"
      },
      "source": [
        "## Subset DF"
      ]
    },
    {
      "cell_type": "code",
      "metadata": {
        "id": "-3tjzLyzXB8u",
        "colab_type": "code",
        "colab": {}
      },
      "source": [
        "bit_bit = bitcoin_daily[['time','open', 'close', 'Volume']]\n",
        "bit_bit = bit_bit.rename(columns={'open': 'BTC_open', 'close': 'BTC_close', 'Volume': 'BTC_vol'})"
      ],
      "execution_count": null,
      "outputs": []
    },
    {
      "cell_type": "code",
      "metadata": {
        "id": "2HK3THHkaGs2",
        "colab_type": "code",
        "colab": {}
      },
      "source": [
        "eth_bit = ethereum_daily[['time','open', 'close', 'Volume']]\n",
        "eth_bit = eth_bit.rename(columns={'open': 'ETHER_open', 'close': 'ETHER_close', 'Volume': 'ETHER_vol'})"
      ],
      "execution_count": null,
      "outputs": []
    },
    {
      "cell_type": "code",
      "metadata": {
        "id": "e5rEydh3a2Rq",
        "colab_type": "code",
        "colab": {}
      },
      "source": [
        "xrp_bit = ripple_daily[['time','open', 'close', 'Volume']]\n",
        "xrp_bit = xrp_bit.rename(columns={'open': 'XRP_open', 'close': 'XRP_close', 'Volume': 'XRP_vol'})"
      ],
      "execution_count": null,
      "outputs": []
    },
    {
      "cell_type": "markdown",
      "metadata": {
        "id": "P_20D7xMbgBx",
        "colab_type": "text"
      },
      "source": [
        "## Merge\n",
        "\n"
      ]
    },
    {
      "cell_type": "code",
      "metadata": {
        "id": "bZaI2_FbbnsB",
        "colab_type": "code",
        "colab": {}
      },
      "source": [
        "# Data frames for each coin from BITFINEX\n",
        "#bit_bit 2,677 observations\n",
        "#eth_bit 1,497 observations\n",
        "#xrp_bit 1,176 observations"
      ],
      "execution_count": null,
      "outputs": []
    },
    {
      "cell_type": "code",
      "metadata": {
        "id": "EmJv81OOcOLW",
        "colab_type": "code",
        "colab": {}
      },
      "source": [
        "bit_eth = pd.merge(bit_bit, eth_bit, how='left', on=['time'])\n",
        "data = pd.merge(bit_eth, xrp_bit, how='left', on=['time'])"
      ],
      "execution_count": null,
      "outputs": []
    },
    {
      "cell_type": "code",
      "metadata": {
        "id": "rV0edZss-eQK",
        "colab_type": "code",
        "colab": {
          "base_uri": "https://localhost:8080/",
          "height": 34
        },
        "outputId": "eb14de97-198f-4a38-e692-320d44bd8c48"
      },
      "source": [
        "#Drop NA \n",
        "data = data.dropna()\n",
        "len(data) #1,174 observations after removing NA"
      ],
      "execution_count": null,
      "outputs": [
        {
          "output_type": "execute_result",
          "data": {
            "text/plain": [
              "1174"
            ]
          },
          "metadata": {
            "tags": []
          },
          "execution_count": 12
        }
      ]
    },
    {
      "cell_type": "markdown",
      "metadata": {
        "id": "zvNsWJ7d_NxD",
        "colab_type": "text"
      },
      "source": [
        "# Lag the predictor variables 7 days"
      ]
    },
    {
      "cell_type": "code",
      "metadata": {
        "id": "i5AHsj02_RGf",
        "colab_type": "code",
        "colab": {
          "base_uri": "https://localhost:8080/",
          "height": 336
        },
        "outputId": "68e4bc5d-d839-4108-9775-42bcbcf3f568"
      },
      "source": [
        "# Duplicate the bitcoin variables before lagging\n",
        "data['BTC_open_dup'] = data['BTC_open'] \n",
        "data['BTC_close_dup'] = data['BTC_close']\n",
        "data['BTC_vol_dup'] = data['BTC_vol']"
      ],
      "execution_count": null,
      "outputs": [
        {
          "output_type": "stream",
          "text": [
            "/usr/local/lib/python3.6/dist-packages/ipykernel_launcher.py:2: SettingWithCopyWarning: \n",
            "A value is trying to be set on a copy of a slice from a DataFrame.\n",
            "Try using .loc[row_indexer,col_indexer] = value instead\n",
            "\n",
            "See the caveats in the documentation: https://pandas.pydata.org/pandas-docs/stable/user_guide/indexing.html#returning-a-view-versus-a-copy\n",
            "  \n",
            "/usr/local/lib/python3.6/dist-packages/ipykernel_launcher.py:3: SettingWithCopyWarning: \n",
            "A value is trying to be set on a copy of a slice from a DataFrame.\n",
            "Try using .loc[row_indexer,col_indexer] = value instead\n",
            "\n",
            "See the caveats in the documentation: https://pandas.pydata.org/pandas-docs/stable/user_guide/indexing.html#returning-a-view-versus-a-copy\n",
            "  This is separate from the ipykernel package so we can avoid doing imports until\n",
            "/usr/local/lib/python3.6/dist-packages/ipykernel_launcher.py:4: SettingWithCopyWarning: \n",
            "A value is trying to be set on a copy of a slice from a DataFrame.\n",
            "Try using .loc[row_indexer,col_indexer] = value instead\n",
            "\n",
            "See the caveats in the documentation: https://pandas.pydata.org/pandas-docs/stable/user_guide/indexing.html#returning-a-view-versus-a-copy\n",
            "  after removing the cwd from sys.path.\n"
          ],
          "name": "stderr"
        }
      ]
    },
    {
      "cell_type": "code",
      "metadata": {
        "id": "nt-6E1XC_qnn",
        "colab_type": "code",
        "colab": {}
      },
      "source": [
        "# Remove the BTC open and BTC vol variables before lagging as they  can't be used for this type of modelling strategy. \n",
        "data = data.drop(['BTC_open', 'BTC_vol'], axis = 1)"
      ],
      "execution_count": null,
      "outputs": []
    },
    {
      "cell_type": "code",
      "metadata": {
        "id": "YxyCPuUHBCFp",
        "colab_type": "code",
        "colab": {}
      },
      "source": [
        "# Lag all variables except BTC_close\n",
        "\n",
        "data['ETHER_open'] = data['ETHER_open'].shift(7)\n",
        "data['ETHER_close'] = data['ETHER_close'].shift(7)\n",
        "data['ETHER_vol'] = data['ETHER_vol'].shift(7)\n",
        "\n",
        "data['XRP_open'] = data['XRP_open'].shift(7)\n",
        "data['XRP_close'] = data['XRP_close'].shift(7)\n",
        "data['XRP_vol'] = data['XRP_vol'].shift(7)\n",
        "\n",
        "data['BTC_open_dup'] = data['BTC_open_dup'].shift(7)\n",
        "data['BTC_close_dup'] = data['BTC_close_dup'].shift(7)\n",
        "data['BTC_vol_dup'] = data['BTC_vol_dup'].shift(7)"
      ],
      "execution_count": null,
      "outputs": []
    },
    {
      "cell_type": "code",
      "metadata": {
        "id": "QOsvJkp6B6qi",
        "colab_type": "code",
        "colab": {}
      },
      "source": [
        "# Drop the first 7 rows of the data set as these are NA rows due to the lagging. \n",
        "data.drop(data.head(7).index, inplace=True)"
      ],
      "execution_count": null,
      "outputs": []
    },
    {
      "cell_type": "markdown",
      "metadata": {
        "id": "zKLyu0XDC2Ym",
        "colab_type": "text"
      },
      "source": [
        "# Set the test and train sets"
      ]
    },
    {
      "cell_type": "code",
      "metadata": {
        "id": "EkOknLFYE3y9",
        "colab_type": "code",
        "colab": {}
      },
      "source": [
        "# Set the  data index as a data col\n",
        "data.index = range(1,1168)"
      ],
      "execution_count": null,
      "outputs": []
    },
    {
      "cell_type": "code",
      "metadata": {
        "id": "V8Pi1fKrC4vF",
        "colab_type": "code",
        "colab": {}
      },
      "source": [
        "# May train and test sets\n",
        "pd.set_option(\"display.max_rows\", None, \"display.max_columns\", None)\n",
        "train_may = data[1:1071]\n",
        "test_may = data[1071:1078]"
      ],
      "execution_count": null,
      "outputs": []
    },
    {
      "cell_type": "code",
      "metadata": {
        "id": "Q6xbeVx4G2Y7",
        "colab_type": "code",
        "colab": {}
      },
      "source": [
        "# July train and test sets\n",
        "train_july = data[1:1132]\n",
        "test_july = data[1132:1139]"
      ],
      "execution_count": null,
      "outputs": []
    },
    {
      "cell_type": "markdown",
      "metadata": {
        "id": "7-6LPrCNHXpf",
        "colab_type": "text"
      },
      "source": [
        "# Donald Modelling"
      ]
    },
    {
      "cell_type": "code",
      "metadata": {
        "id": "lGpKX1ciHaG7",
        "colab_type": "code",
        "colab": {}
      },
      "source": [
        ""
      ],
      "execution_count": null,
      "outputs": []
    },
    {
      "cell_type": "markdown",
      "metadata": {
        "id": "kpGbKbpDHab1",
        "colab_type": "text"
      },
      "source": [
        "# **Rob Modelling**"
      ]
    },
    {
      "cell_type": "markdown",
      "metadata": {
        "id": "KlC8-kQ1Rj9V",
        "colab_type": "text"
      },
      "source": [
        "#  Set test and train sets\n"
      ]
    },
    {
      "cell_type": "code",
      "metadata": {
        "id": "DUXcnYIMRezh",
        "colab_type": "code",
        "colab": {}
      },
      "source": [
        "# Select the independent variables for the first experiment in 'x' and the dependent variable 'y' for MAY\n",
        "x_train_may = train_may[['ETHER_open', 'ETHER_close', 'ETHER_vol', 'XRP_open', 'XRP_close', 'XRP_vol', 'BTC_open_dup', 'BTC_close_dup', 'BTC_vol_dup']]\n",
        "y_train_may = train_may['BTC_close']\n",
        "\n",
        "# Setup testing x and y variables\n",
        "x_test_may = test_may[['ETHER_open', 'ETHER_close', 'ETHER_vol', 'XRP_open', 'XRP_close', 'XRP_vol', 'BTC_open_dup', 'BTC_close_dup', 'BTC_vol_dup']]\n",
        "y_test_may = test_may['BTC_close']\n"
      ],
      "execution_count": null,
      "outputs": []
    },
    {
      "cell_type": "code",
      "metadata": {
        "id": "_2EooSdhTb8r",
        "colab_type": "code",
        "colab": {}
      },
      "source": [
        "# Select the independent variables for the first experiment in 'x' and the dependent variable 'y' for JULY\n",
        "x_train_july = train_july[['ETHER_open', 'ETHER_close', 'ETHER_vol', 'XRP_open', 'XRP_close', 'XRP_vol', 'BTC_open_dup', 'BTC_close_dup', 'BTC_vol_dup']]\n",
        "y_train_july = train_july['BTC_close']\n",
        "\n",
        "# Setup testing x and y variables\n",
        "x_test_july = test_july[['ETHER_open', 'ETHER_close', 'ETHER_vol', 'XRP_open', 'XRP_close', 'XRP_vol', 'BTC_open_dup', 'BTC_close_dup', 'BTC_vol_dup']]\n",
        "y_test_july = test_july['BTC_close']\n"
      ],
      "execution_count": null,
      "outputs": []
    },
    {
      "cell_type": "markdown",
      "metadata": {
        "id": "UzZb1l0e6exC",
        "colab_type": "text"
      },
      "source": [
        "# Linear Model - May"
      ]
    },
    {
      "cell_type": "code",
      "metadata": {
        "id": "tIS0Aq3Z6cuc",
        "colab_type": "code",
        "colab": {}
      },
      "source": [
        "# Import the requried packages for the linear regression model\n",
        "import numpy as np\n",
        "from sklearn.linear_model import LinearRegression\n",
        "\n",
        "model = LinearRegression()"
      ],
      "execution_count": null,
      "outputs": []
    },
    {
      "cell_type": "code",
      "metadata": {
        "id": "pCI62EcwUgpA",
        "colab_type": "code",
        "colab": {}
      },
      "source": [
        "# Runt he linear regressor over the x and y training data\n",
        "model = LinearRegression().fit(x_train_may, y_train_may)"
      ],
      "execution_count": null,
      "outputs": []
    },
    {
      "cell_type": "code",
      "metadata": {
        "id": "olCe7rRiVTFU",
        "colab_type": "code",
        "colab": {
          "base_uri": "https://localhost:8080/",
          "height": 545
        },
        "outputId": "ae3de6fa-3cb0-4076-a344-965241654d04"
      },
      "source": [
        "# Runt he linear regressor over the x and y training data\n",
        "from statsmodels.api import OLS\n",
        "OLS(y_train_may,x_train_may).fit().summary()"
      ],
      "execution_count": null,
      "outputs": [
        {
          "output_type": "execute_result",
          "data": {
            "text/html": [
              "<table class=\"simpletable\">\n",
              "<caption>OLS Regression Results</caption>\n",
              "<tr>\n",
              "  <th>Dep. Variable:</th>        <td>BTC_close</td>    <th>  R-squared (uncentered):</th>      <td>   0.984</td> \n",
              "</tr>\n",
              "<tr>\n",
              "  <th>Model:</th>                   <td>OLS</td>       <th>  Adj. R-squared (uncentered):</th> <td>   0.984</td> \n",
              "</tr>\n",
              "<tr>\n",
              "  <th>Method:</th>             <td>Least Squares</td>  <th>  F-statistic:       </th>          <td>   7349.</td> \n",
              "</tr>\n",
              "<tr>\n",
              "  <th>Date:</th>             <td>Sat, 29 Aug 2020</td> <th>  Prob (F-statistic):</th>           <td>  0.00</td>  \n",
              "</tr>\n",
              "<tr>\n",
              "  <th>Time:</th>                 <td>04:11:32</td>     <th>  Log-Likelihood:    </th>          <td> -8884.2</td> \n",
              "</tr>\n",
              "<tr>\n",
              "  <th>No. Observations:</th>      <td>  1070</td>      <th>  AIC:               </th>          <td>1.779e+04</td>\n",
              "</tr>\n",
              "<tr>\n",
              "  <th>Df Residuals:</th>          <td>  1061</td>      <th>  BIC:               </th>          <td>1.783e+04</td>\n",
              "</tr>\n",
              "<tr>\n",
              "  <th>Df Model:</th>              <td>     9</td>      <th>                     </th>              <td> </td>    \n",
              "</tr>\n",
              "<tr>\n",
              "  <th>Covariance Type:</th>      <td>nonrobust</td>    <th>                     </th>              <td> </td>    \n",
              "</tr>\n",
              "</table>\n",
              "<table class=\"simpletable\">\n",
              "<tr>\n",
              "        <td></td>           <th>coef</th>     <th>std err</th>      <th>t</th>      <th>P>|t|</th>  <th>[0.025</th>    <th>0.975]</th>  \n",
              "</tr>\n",
              "<tr>\n",
              "  <th>ETHER_open</th>    <td>    1.4739</td> <td>    1.683</td> <td>    0.876</td> <td> 0.381</td> <td>   -1.828</td> <td>    4.776</td>\n",
              "</tr>\n",
              "<tr>\n",
              "  <th>ETHER_close</th>   <td>   -2.3614</td> <td>    1.689</td> <td>   -1.398</td> <td> 0.162</td> <td>   -5.675</td> <td>    0.952</td>\n",
              "</tr>\n",
              "<tr>\n",
              "  <th>ETHER_vol</th>     <td>   -0.0003</td> <td>    0.000</td> <td>   -1.483</td> <td> 0.138</td> <td>   -0.001</td> <td> 9.76e-05</td>\n",
              "</tr>\n",
              "<tr>\n",
              "  <th>XRP_open</th>      <td>-3414.9582</td> <td>  740.255</td> <td>   -4.613</td> <td> 0.000</td> <td>-4867.488</td> <td>-1962.429</td>\n",
              "</tr>\n",
              "<tr>\n",
              "  <th>XRP_close</th>     <td> 2925.4715</td> <td>  753.450</td> <td>    3.883</td> <td> 0.000</td> <td> 1447.051</td> <td> 4403.892</td>\n",
              "</tr>\n",
              "<tr>\n",
              "  <th>XRP_vol</th>       <td>-1.277e-06</td> <td> 6.51e-07</td> <td>   -1.961</td> <td> 0.050</td> <td>-2.56e-06</td> <td> 7.72e-10</td>\n",
              "</tr>\n",
              "<tr>\n",
              "  <th>BTC_open_dup</th>  <td>    0.1394</td> <td>    0.098</td> <td>    1.424</td> <td> 0.155</td> <td>   -0.053</td> <td>    0.331</td>\n",
              "</tr>\n",
              "<tr>\n",
              "  <th>BTC_close_dup</th> <td>    0.8844</td> <td>    0.097</td> <td>    9.096</td> <td> 0.000</td> <td>    0.694</td> <td>    1.075</td>\n",
              "</tr>\n",
              "<tr>\n",
              "  <th>BTC_vol_dup</th>   <td>    0.0159</td> <td>    0.002</td> <td>    8.325</td> <td> 0.000</td> <td>    0.012</td> <td>    0.020</td>\n",
              "</tr>\n",
              "</table>\n",
              "<table class=\"simpletable\">\n",
              "<tr>\n",
              "  <th>Omnibus:</th>       <td>147.067</td> <th>  Durbin-Watson:     </th> <td>   0.351</td>\n",
              "</tr>\n",
              "<tr>\n",
              "  <th>Prob(Omnibus):</th> <td> 0.000</td>  <th>  Jarque-Bera (JB):  </th> <td>1727.920</td>\n",
              "</tr>\n",
              "<tr>\n",
              "  <th>Skew:</th>          <td> 0.009</td>  <th>  Prob(JB):          </th> <td>    0.00</td>\n",
              "</tr>\n",
              "<tr>\n",
              "  <th>Kurtosis:</th>      <td> 9.225</td>  <th>  Cond. No.          </th> <td>2.65e+09</td>\n",
              "</tr>\n",
              "</table><br/><br/>Warnings:<br/>[1] Standard Errors assume that the covariance matrix of the errors is correctly specified.<br/>[2] The condition number is large, 2.65e+09. This might indicate that there are<br/>strong multicollinearity or other numerical problems."
            ],
            "text/plain": [
              "<class 'statsmodels.iolib.summary.Summary'>\n",
              "\"\"\"\n",
              "                                 OLS Regression Results                                \n",
              "=======================================================================================\n",
              "Dep. Variable:              BTC_close   R-squared (uncentered):                   0.984\n",
              "Model:                            OLS   Adj. R-squared (uncentered):              0.984\n",
              "Method:                 Least Squares   F-statistic:                              7349.\n",
              "Date:                Sat, 29 Aug 2020   Prob (F-statistic):                        0.00\n",
              "Time:                        04:11:32   Log-Likelihood:                         -8884.2\n",
              "No. Observations:                1070   AIC:                                  1.779e+04\n",
              "Df Residuals:                    1061   BIC:                                  1.783e+04\n",
              "Df Model:                           9                                                  \n",
              "Covariance Type:            nonrobust                                                  \n",
              "=================================================================================\n",
              "                    coef    std err          t      P>|t|      [0.025      0.975]\n",
              "---------------------------------------------------------------------------------\n",
              "ETHER_open        1.4739      1.683      0.876      0.381      -1.828       4.776\n",
              "ETHER_close      -2.3614      1.689     -1.398      0.162      -5.675       0.952\n",
              "ETHER_vol        -0.0003      0.000     -1.483      0.138      -0.001    9.76e-05\n",
              "XRP_open      -3414.9582    740.255     -4.613      0.000   -4867.488   -1962.429\n",
              "XRP_close      2925.4715    753.450      3.883      0.000    1447.051    4403.892\n",
              "XRP_vol       -1.277e-06   6.51e-07     -1.961      0.050   -2.56e-06    7.72e-10\n",
              "BTC_open_dup      0.1394      0.098      1.424      0.155      -0.053       0.331\n",
              "BTC_close_dup     0.8844      0.097      9.096      0.000       0.694       1.075\n",
              "BTC_vol_dup       0.0159      0.002      8.325      0.000       0.012       0.020\n",
              "==============================================================================\n",
              "Omnibus:                      147.067   Durbin-Watson:                   0.351\n",
              "Prob(Omnibus):                  0.000   Jarque-Bera (JB):             1727.920\n",
              "Skew:                           0.009   Prob(JB):                         0.00\n",
              "Kurtosis:                       9.225   Cond. No.                     2.65e+09\n",
              "==============================================================================\n",
              "\n",
              "Warnings:\n",
              "[1] Standard Errors assume that the covariance matrix of the errors is correctly specified.\n",
              "[2] The condition number is large, 2.65e+09. This might indicate that there are\n",
              "strong multicollinearity or other numerical problems.\n",
              "\"\"\""
            ]
          },
          "metadata": {
            "tags": []
          },
          "execution_count": 26
        }
      ]
    },
    {
      "cell_type": "code",
      "metadata": {
        "id": "2ITd37xkWvBL",
        "colab_type": "code",
        "colab": {}
      },
      "source": [
        "# Predict the model on the x_test data\n",
        "y_pred_may = pd.DataFrame(model.predict(x_test_may))\n",
        "y_pred_may['index'] = range(1,8)"
      ],
      "execution_count": null,
      "outputs": []
    },
    {
      "cell_type": "code",
      "metadata": {
        "id": "f98eKhrgaSRm",
        "colab_type": "code",
        "colab": {
          "base_uri": "https://localhost:8080/",
          "height": 257
        },
        "outputId": "469e1aff-8e2c-4cac-d811-1f04c74d9a2a"
      },
      "source": [
        "y_pred_may"
      ],
      "execution_count": null,
      "outputs": [
        {
          "output_type": "execute_result",
          "data": {
            "text/html": [
              "<div>\n",
              "<style scoped>\n",
              "    .dataframe tbody tr th:only-of-type {\n",
              "        vertical-align: middle;\n",
              "    }\n",
              "\n",
              "    .dataframe tbody tr th {\n",
              "        vertical-align: top;\n",
              "    }\n",
              "\n",
              "    .dataframe thead th {\n",
              "        text-align: right;\n",
              "    }\n",
              "</style>\n",
              "<table border=\"1\" class=\"dataframe\">\n",
              "  <thead>\n",
              "    <tr style=\"text-align: right;\">\n",
              "      <th></th>\n",
              "      <th>0</th>\n",
              "      <th>index</th>\n",
              "    </tr>\n",
              "  </thead>\n",
              "  <tbody>\n",
              "    <tr>\n",
              "      <th>0</th>\n",
              "      <td>7626.086948</td>\n",
              "      <td>1</td>\n",
              "    </tr>\n",
              "    <tr>\n",
              "      <th>1</th>\n",
              "      <td>7526.599476</td>\n",
              "      <td>2</td>\n",
              "    </tr>\n",
              "    <tr>\n",
              "      <th>2</th>\n",
              "      <td>7690.725950</td>\n",
              "      <td>3</td>\n",
              "    </tr>\n",
              "    <tr>\n",
              "      <th>3</th>\n",
              "      <td>7793.804550</td>\n",
              "      <td>4</td>\n",
              "    </tr>\n",
              "    <tr>\n",
              "      <th>4</th>\n",
              "      <td>7850.899369</td>\n",
              "      <td>5</td>\n",
              "    </tr>\n",
              "    <tr>\n",
              "      <th>5</th>\n",
              "      <td>8888.264968</td>\n",
              "      <td>6</td>\n",
              "    </tr>\n",
              "    <tr>\n",
              "      <th>6</th>\n",
              "      <td>8836.952715</td>\n",
              "      <td>7</td>\n",
              "    </tr>\n",
              "  </tbody>\n",
              "</table>\n",
              "</div>"
            ],
            "text/plain": [
              "             0  index\n",
              "0  7626.086948      1\n",
              "1  7526.599476      2\n",
              "2  7690.725950      3\n",
              "3  7793.804550      4\n",
              "4  7850.899369      5\n",
              "5  8888.264968      6\n",
              "6  8836.952715      7"
            ]
          },
          "metadata": {
            "tags": []
          },
          "execution_count": 28
        }
      ]
    },
    {
      "cell_type": "code",
      "metadata": {
        "id": "ba2tFAy4YGVY",
        "colab_type": "code",
        "colab": {}
      },
      "source": [
        "y_test_may = pd.DataFrame(y_test_may)[0:7]\n",
        "y_test_may['index'] = range(1,8)"
      ],
      "execution_count": null,
      "outputs": []
    },
    {
      "cell_type": "code",
      "metadata": {
        "id": "D-m1FEz7Yrrz",
        "colab_type": "code",
        "colab": {
          "base_uri": "https://localhost:8080/",
          "height": 257
        },
        "outputId": "0516443a-70ee-4f3e-f7c5-04630642847e"
      },
      "source": [
        "y_test_may"
      ],
      "execution_count": null,
      "outputs": [
        {
          "output_type": "execute_result",
          "data": {
            "text/html": [
              "<div>\n",
              "<style scoped>\n",
              "    .dataframe tbody tr th:only-of-type {\n",
              "        vertical-align: middle;\n",
              "    }\n",
              "\n",
              "    .dataframe tbody tr th {\n",
              "        vertical-align: top;\n",
              "    }\n",
              "\n",
              "    .dataframe thead th {\n",
              "        text-align: right;\n",
              "    }\n",
              "</style>\n",
              "<table border=\"1\" class=\"dataframe\">\n",
              "  <thead>\n",
              "    <tr style=\"text-align: right;\">\n",
              "      <th></th>\n",
              "      <th>BTC_close</th>\n",
              "      <th>index</th>\n",
              "    </tr>\n",
              "  </thead>\n",
              "  <tbody>\n",
              "    <tr>\n",
              "      <th>1072</th>\n",
              "      <td>8822.800000</td>\n",
              "      <td>1</td>\n",
              "    </tr>\n",
              "    <tr>\n",
              "      <th>1073</th>\n",
              "      <td>8982.300000</td>\n",
              "      <td>2</td>\n",
              "    </tr>\n",
              "    <tr>\n",
              "      <th>1074</th>\n",
              "      <td>8899.800000</td>\n",
              "      <td>3</td>\n",
              "    </tr>\n",
              "    <tr>\n",
              "      <th>1075</th>\n",
              "      <td>8865.800000</td>\n",
              "      <td>4</td>\n",
              "    </tr>\n",
              "    <tr>\n",
              "      <th>1076</th>\n",
              "      <td>9020.100000</td>\n",
              "      <td>5</td>\n",
              "    </tr>\n",
              "    <tr>\n",
              "      <th>1077</th>\n",
              "      <td>9152.470993</td>\n",
              "      <td>6</td>\n",
              "    </tr>\n",
              "    <tr>\n",
              "      <th>1078</th>\n",
              "      <td>9979.600000</td>\n",
              "      <td>7</td>\n",
              "    </tr>\n",
              "  </tbody>\n",
              "</table>\n",
              "</div>"
            ],
            "text/plain": [
              "        BTC_close  index\n",
              "1072  8822.800000      1\n",
              "1073  8982.300000      2\n",
              "1074  8899.800000      3\n",
              "1075  8865.800000      4\n",
              "1076  9020.100000      5\n",
              "1077  9152.470993      6\n",
              "1078  9979.600000      7"
            ]
          },
          "metadata": {
            "tags": []
          },
          "execution_count": 30
        }
      ]
    },
    {
      "cell_type": "code",
      "metadata": {
        "id": "-aNI35b3a23c",
        "colab_type": "code",
        "colab": {}
      },
      "source": [
        "# merge the prediction and actual data frames\n",
        "merge_may = y_pred_may.merge(y_test_may, on='index', how='left')"
      ],
      "execution_count": null,
      "outputs": []
    },
    {
      "cell_type": "code",
      "metadata": {
        "id": "VP9P5hL-a7Nr",
        "colab_type": "code",
        "colab": {}
      },
      "source": [
        "merge_may.columns = ['lm_prediction', 'index', 'real']"
      ],
      "execution_count": null,
      "outputs": []
    },
    {
      "cell_type": "code",
      "metadata": {
        "id": "PM11Z3tWWcSM",
        "colab_type": "code",
        "colab": {}
      },
      "source": [
        "from sklearn.metrics import mean_squared_error"
      ],
      "execution_count": null,
      "outputs": []
    },
    {
      "cell_type": "code",
      "metadata": {
        "id": "fb8t3stwWg9l",
        "colab_type": "code",
        "colab": {
          "base_uri": "https://localhost:8080/",
          "height": 34
        },
        "outputId": "1de98886-65e9-485b-c2ae-c7c7475bbc5f"
      },
      "source": [
        "MSE = mean_squared_error(y_true = merge_may.real, y_pred = merge_may.lm_prediction)\n",
        "np.sqrt(MSE)"
      ],
      "execution_count": null,
      "outputs": [
        {
          "output_type": "execute_result",
          "data": {
            "text/plain": [
              "1127.8739928245245"
            ]
          },
          "metadata": {
            "tags": []
          },
          "execution_count": 34
        }
      ]
    },
    {
      "cell_type": "code",
      "metadata": {
        "id": "BHfQOIcAUoh_",
        "colab_type": "code",
        "colab": {
          "base_uri": "https://localhost:8080/",
          "height": 34
        },
        "outputId": "052b845d-420e-4221-e158-99e1e708176b"
      },
      "source": [
        "# Calculate the r_square value for the linear model\n",
        "r_sq = model.score(x_train_may, y_train_may)\n",
        "print('coefficient of determination:', r_sq)"
      ],
      "execution_count": null,
      "outputs": [
        {
          "output_type": "stream",
          "text": [
            "coefficient of determination: 0.8933358021588513\n"
          ],
          "name": "stdout"
        }
      ]
    },
    {
      "cell_type": "code",
      "metadata": {
        "id": "9QmwAj_bwFQG",
        "colab_type": "code",
        "colab": {
          "base_uri": "https://localhost:8080/",
          "height": 257
        },
        "outputId": "c822dfbc-11db-4e3f-e029-98ea181db3c5"
      },
      "source": [
        "merge_may"
      ],
      "execution_count": null,
      "outputs": [
        {
          "output_type": "execute_result",
          "data": {
            "text/html": [
              "<div>\n",
              "<style scoped>\n",
              "    .dataframe tbody tr th:only-of-type {\n",
              "        vertical-align: middle;\n",
              "    }\n",
              "\n",
              "    .dataframe tbody tr th {\n",
              "        vertical-align: top;\n",
              "    }\n",
              "\n",
              "    .dataframe thead th {\n",
              "        text-align: right;\n",
              "    }\n",
              "</style>\n",
              "<table border=\"1\" class=\"dataframe\">\n",
              "  <thead>\n",
              "    <tr style=\"text-align: right;\">\n",
              "      <th></th>\n",
              "      <th>lm_prediction</th>\n",
              "      <th>index</th>\n",
              "      <th>real</th>\n",
              "    </tr>\n",
              "  </thead>\n",
              "  <tbody>\n",
              "    <tr>\n",
              "      <th>0</th>\n",
              "      <td>7626.086948</td>\n",
              "      <td>1</td>\n",
              "      <td>8822.800000</td>\n",
              "    </tr>\n",
              "    <tr>\n",
              "      <th>1</th>\n",
              "      <td>7526.599476</td>\n",
              "      <td>2</td>\n",
              "      <td>8982.300000</td>\n",
              "    </tr>\n",
              "    <tr>\n",
              "      <th>2</th>\n",
              "      <td>7690.725950</td>\n",
              "      <td>3</td>\n",
              "      <td>8899.800000</td>\n",
              "    </tr>\n",
              "    <tr>\n",
              "      <th>3</th>\n",
              "      <td>7793.804550</td>\n",
              "      <td>4</td>\n",
              "      <td>8865.800000</td>\n",
              "    </tr>\n",
              "    <tr>\n",
              "      <th>4</th>\n",
              "      <td>7850.899369</td>\n",
              "      <td>5</td>\n",
              "      <td>9020.100000</td>\n",
              "    </tr>\n",
              "    <tr>\n",
              "      <th>5</th>\n",
              "      <td>8888.264968</td>\n",
              "      <td>6</td>\n",
              "      <td>9152.470993</td>\n",
              "    </tr>\n",
              "    <tr>\n",
              "      <th>6</th>\n",
              "      <td>8836.952715</td>\n",
              "      <td>7</td>\n",
              "      <td>9979.600000</td>\n",
              "    </tr>\n",
              "  </tbody>\n",
              "</table>\n",
              "</div>"
            ],
            "text/plain": [
              "   lm_prediction  index         real\n",
              "0    7626.086948      1  8822.800000\n",
              "1    7526.599476      2  8982.300000\n",
              "2    7690.725950      3  8899.800000\n",
              "3    7793.804550      4  8865.800000\n",
              "4    7850.899369      5  9020.100000\n",
              "5    8888.264968      6  9152.470993\n",
              "6    8836.952715      7  9979.600000"
            ]
          },
          "metadata": {
            "tags": []
          },
          "execution_count": 36
        }
      ]
    },
    {
      "cell_type": "code",
      "metadata": {
        "id": "iHU2TMAUv7lw",
        "colab_type": "code",
        "colab": {
          "base_uri": "https://localhost:8080/",
          "height": 280
        },
        "outputId": "2c42a200-cdd8-4852-ceb9-70caa13cd97b"
      },
      "source": [
        "# Plot the predicted vs actual in matplot lib\n",
        "import matplotlib.pyplot as plt\n",
        "plt.plot( 'index', 'real', data=merge_may, marker='o', markerfacecolor='blue', markersize=12, color='skyblue', linewidth=4)\n",
        "plt.plot( 'index', 'lm_prediction', data=merge_may, marker='', color='olive', linewidth=2)\n",
        "plt.xticks(rotation='vertical')\n",
        "plt.legend()"
      ],
      "execution_count": null,
      "outputs": [
        {
          "output_type": "execute_result",
          "data": {
            "text/plain": [
              "<matplotlib.legend.Legend at 0x7f9629710fd0>"
            ]
          },
          "metadata": {
            "tags": []
          },
          "execution_count": 37
        },
        {
          "output_type": "display_data",
          "data": {
            "image/png": "[encoded data removed]",
            "text/plain": [
              "<Figure size 432x288 with 1 Axes>"
            ]
          },
          "metadata": {
            "tags": [],
            "needs_background": "light"
          }
        }
      ]
    },
    {
      "cell_type": "markdown",
      "metadata": {
        "id": "36qCf9e_ykKW",
        "colab_type": "text"
      },
      "source": [
        "# Lasso Regression - May"
      ]
    },
    {
      "cell_type": "code",
      "metadata": {
        "id": "819tLoLsymus",
        "colab_type": "code",
        "colab": {}
      },
      "source": [
        "from sklearn.linear_model import Lasso\n",
        "from sklearn.model_selection import GridSearchCV\n",
        "from sklearn.linear_model import Ridge, RidgeCV, Lasso, LassoCV\n",
        "from sklearn.metrics import mean_squared_error\n",
        "\n",
        "lasso = Lasso()"
      ],
      "execution_count": null,
      "outputs": []
    },
    {
      "cell_type": "code",
      "metadata": {
        "id": "bjJpfCEUy2d_",
        "colab_type": "code",
        "colab": {}
      },
      "source": [
        "params = {'alpha': [1e-15, 1e-10, 1e-8, 1e-4, 1e-3, 1e-2, 1, 5, 10, 20]}"
      ],
      "execution_count": null,
      "outputs": []
    },
    {
      "cell_type": "code",
      "metadata": {
        "id": "ma-DG8VmzGj9",
        "colab_type": "code",
        "colab": {}
      },
      "source": [
        "lasso_regressor = LassoCV(alphas = None, cv = 10, max_iter = 100000, normalize = True)#GridSearchCV(lasso, params, scoring = 'neg_mean_squared_error', cv=5)"
      ],
      "execution_count": null,
      "outputs": []
    },
    {
      "cell_type": "code",
      "metadata": {
        "id": "ZgIfJVNkzeWM",
        "colab_type": "code",
        "colab": {}
      },
      "source": [
        "lasso = lasso_regressor.fit(x_train_may, y_train_may)"
      ],
      "execution_count": null,
      "outputs": []
    },
    {
      "cell_type": "code",
      "metadata": {
        "colab_type": "code",
        "id": "Y2GU1kLu0Nji",
        "colab": {}
      },
      "source": [
        "# Predict the model on the x_test data\n",
        "y_pred_may_lasso = pd.DataFrame(lasso.predict(x_test_may))\n",
        "y_pred_may_lasso['index'] = range(1,8)"
      ],
      "execution_count": null,
      "outputs": []
    },
    {
      "cell_type": "code",
      "metadata": {
        "colab_type": "code",
        "id": "0pgCGopx0Njn",
        "colab": {
          "base_uri": "https://localhost:8080/",
          "height": 257
        },
        "outputId": "564f4d45-d168-4d45-ecfa-6e9e4d61531c"
      },
      "source": [
        "y_pred_may_lasso"
      ],
      "execution_count": null,
      "outputs": [
        {
          "output_type": "execute_result",
          "data": {
            "text/html": [
              "<div>\n",
              "<style scoped>\n",
              "    .dataframe tbody tr th:only-of-type {\n",
              "        vertical-align: middle;\n",
              "    }\n",
              "\n",
              "    .dataframe tbody tr th {\n",
              "        vertical-align: top;\n",
              "    }\n",
              "\n",
              "    .dataframe thead th {\n",
              "        text-align: right;\n",
              "    }\n",
              "</style>\n",
              "<table border=\"1\" class=\"dataframe\">\n",
              "  <thead>\n",
              "    <tr style=\"text-align: right;\">\n",
              "      <th></th>\n",
              "      <th>0</th>\n",
              "      <th>index</th>\n",
              "    </tr>\n",
              "  </thead>\n",
              "  <tbody>\n",
              "    <tr>\n",
              "      <th>0</th>\n",
              "      <td>7619.051456</td>\n",
              "      <td>1</td>\n",
              "    </tr>\n",
              "    <tr>\n",
              "      <th>1</th>\n",
              "      <td>7540.843968</td>\n",
              "      <td>2</td>\n",
              "    </tr>\n",
              "    <tr>\n",
              "      <th>2</th>\n",
              "      <td>7704.844636</td>\n",
              "      <td>3</td>\n",
              "    </tr>\n",
              "    <tr>\n",
              "      <th>3</th>\n",
              "      <td>7797.110522</td>\n",
              "      <td>4</td>\n",
              "    </tr>\n",
              "    <tr>\n",
              "      <th>4</th>\n",
              "      <td>7814.768118</td>\n",
              "      <td>5</td>\n",
              "    </tr>\n",
              "    <tr>\n",
              "      <th>5</th>\n",
              "      <td>8932.928478</td>\n",
              "      <td>6</td>\n",
              "    </tr>\n",
              "    <tr>\n",
              "      <th>6</th>\n",
              "      <td>8831.216923</td>\n",
              "      <td>7</td>\n",
              "    </tr>\n",
              "  </tbody>\n",
              "</table>\n",
              "</div>"
            ],
            "text/plain": [
              "             0  index\n",
              "0  7619.051456      1\n",
              "1  7540.843968      2\n",
              "2  7704.844636      3\n",
              "3  7797.110522      4\n",
              "4  7814.768118      5\n",
              "5  8932.928478      6\n",
              "6  8831.216923      7"
            ]
          },
          "metadata": {
            "tags": []
          },
          "execution_count": 43
        }
      ]
    },
    {
      "cell_type": "code",
      "metadata": {
        "colab_type": "code",
        "id": "mIijND_G0Njz",
        "colab": {}
      },
      "source": [
        "# merge the prediction and actual data frames\n",
        "merge_may = merge_may.merge(y_pred_may_lasso, on='index', how='left')"
      ],
      "execution_count": null,
      "outputs": []
    },
    {
      "cell_type": "code",
      "metadata": {
        "id": "nOOxKZbJ05UG",
        "colab_type": "code",
        "colab": {
          "base_uri": "https://localhost:8080/",
          "height": 257
        },
        "outputId": "cdf9d9bf-1524-409f-c752-d36f209b8689"
      },
      "source": [
        "merge_may"
      ],
      "execution_count": null,
      "outputs": [
        {
          "output_type": "execute_result",
          "data": {
            "text/html": [
              "<div>\n",
              "<style scoped>\n",
              "    .dataframe tbody tr th:only-of-type {\n",
              "        vertical-align: middle;\n",
              "    }\n",
              "\n",
              "    .dataframe tbody tr th {\n",
              "        vertical-align: top;\n",
              "    }\n",
              "\n",
              "    .dataframe thead th {\n",
              "        text-align: right;\n",
              "    }\n",
              "</style>\n",
              "<table border=\"1\" class=\"dataframe\">\n",
              "  <thead>\n",
              "    <tr style=\"text-align: right;\">\n",
              "      <th></th>\n",
              "      <th>lm_prediction</th>\n",
              "      <th>index</th>\n",
              "      <th>real</th>\n",
              "      <th>0</th>\n",
              "    </tr>\n",
              "  </thead>\n",
              "  <tbody>\n",
              "    <tr>\n",
              "      <th>0</th>\n",
              "      <td>7626.086948</td>\n",
              "      <td>1</td>\n",
              "      <td>8822.800000</td>\n",
              "      <td>7619.051456</td>\n",
              "    </tr>\n",
              "    <tr>\n",
              "      <th>1</th>\n",
              "      <td>7526.599476</td>\n",
              "      <td>2</td>\n",
              "      <td>8982.300000</td>\n",
              "      <td>7540.843968</td>\n",
              "    </tr>\n",
              "    <tr>\n",
              "      <th>2</th>\n",
              "      <td>7690.725950</td>\n",
              "      <td>3</td>\n",
              "      <td>8899.800000</td>\n",
              "      <td>7704.844636</td>\n",
              "    </tr>\n",
              "    <tr>\n",
              "      <th>3</th>\n",
              "      <td>7793.804550</td>\n",
              "      <td>4</td>\n",
              "      <td>8865.800000</td>\n",
              "      <td>7797.110522</td>\n",
              "    </tr>\n",
              "    <tr>\n",
              "      <th>4</th>\n",
              "      <td>7850.899369</td>\n",
              "      <td>5</td>\n",
              "      <td>9020.100000</td>\n",
              "      <td>7814.768118</td>\n",
              "    </tr>\n",
              "    <tr>\n",
              "      <th>5</th>\n",
              "      <td>8888.264968</td>\n",
              "      <td>6</td>\n",
              "      <td>9152.470993</td>\n",
              "      <td>8932.928478</td>\n",
              "    </tr>\n",
              "    <tr>\n",
              "      <th>6</th>\n",
              "      <td>8836.952715</td>\n",
              "      <td>7</td>\n",
              "      <td>9979.600000</td>\n",
              "      <td>8831.216923</td>\n",
              "    </tr>\n",
              "  </tbody>\n",
              "</table>\n",
              "</div>"
            ],
            "text/plain": [
              "   lm_prediction  index         real            0\n",
              "0    7626.086948      1  8822.800000  7619.051456\n",
              "1    7526.599476      2  8982.300000  7540.843968\n",
              "2    7690.725950      3  8899.800000  7704.844636\n",
              "3    7793.804550      4  8865.800000  7797.110522\n",
              "4    7850.899369      5  9020.100000  7814.768118\n",
              "5    8888.264968      6  9152.470993  8932.928478\n",
              "6    8836.952715      7  9979.600000  8831.216923"
            ]
          },
          "metadata": {
            "tags": []
          },
          "execution_count": 45
        }
      ]
    },
    {
      "cell_type": "code",
      "metadata": {
        "colab_type": "code",
        "id": "x8fiCOOU0Nj2",
        "colab": {}
      },
      "source": [
        "merge_may.columns = ['lm_prediction', 'index', 'real', 'lasso_prediction']"
      ],
      "execution_count": null,
      "outputs": []
    },
    {
      "cell_type": "code",
      "metadata": {
        "colab_type": "code",
        "id": "moefHSVV0Nj9",
        "colab": {
          "base_uri": "https://localhost:8080/",
          "height": 34
        },
        "outputId": "d8c5686f-1228-4d60-acb6-00e59f2f818f"
      },
      "source": [
        "MSE = mean_squared_error(y_true = merge_may.real, y_pred = merge_may.lasso_prediction)\n",
        "np.sqrt(MSE)"
      ],
      "execution_count": null,
      "outputs": [
        {
          "output_type": "execute_result",
          "data": {
            "text/plain": [
              "1128.6293280870077"
            ]
          },
          "metadata": {
            "tags": []
          },
          "execution_count": 47
        }
      ]
    },
    {
      "cell_type": "code",
      "metadata": {
        "colab_type": "code",
        "id": "4ymq3Wm00NkI",
        "colab": {
          "base_uri": "https://localhost:8080/",
          "height": 280
        },
        "outputId": "681558f6-0570-4b8b-b38d-4f5136a0933b"
      },
      "source": [
        "# Plot the predicted vs actual in matplot lib\n",
        "import matplotlib.pyplot as plt\n",
        "plt.plot( 'index', 'real', data=merge_may, marker='o', markerfacecolor='blue', markersize=12, color='skyblue', linewidth=4)\n",
        "plt.plot( 'index', 'lm_prediction', data=merge_may, marker='', color='olive', linewidth=2)\n",
        "plt.plot( 'index', 'lasso_prediction', data=merge_may, marker='', color='red', linewidth=2)\n",
        "plt.xticks(rotation='vertical')\n",
        "plt.legend()"
      ],
      "execution_count": null,
      "outputs": [
        {
          "output_type": "execute_result",
          "data": {
            "text/plain": [
              "<matplotlib.legend.Legend at 0x7f9629220630>"
            ]
          },
          "metadata": {
            "tags": []
          },
          "execution_count": 48
        },
        {
          "output_type": "display_data",
          "data": {
            "image/png": "[encoded data removed]",
            "text/plain": [
              "<Figure size 432x288 with 1 Axes>"
            ]
          },
          "metadata": {
            "tags": [],
            "needs_background": "light"
          }
        }
      ]
    },
    {
      "cell_type": "markdown",
      "metadata": {
        "id": "dT41mQAHU8YL",
        "colab_type": "text"
      },
      "source": [
        "# Support Vector Regression - May"
      ]
    },
    {
      "cell_type": "code",
      "metadata": {
        "id": "Ct1pbhN5U_0t",
        "colab_type": "code",
        "colab": {}
      },
      "source": [
        "# Import the algorithm package\n",
        "from sklearn.svm import SVR\n",
        "from sklearn.pipeline import make_pipeline\n",
        "from sklearn.preprocessing import StandardScaler"
      ],
      "execution_count": null,
      "outputs": []
    },
    {
      "cell_type": "code",
      "metadata": {
        "id": "2V1qN2Kfb0JS",
        "colab_type": "code",
        "colab": {}
      },
      "source": [
        "y_train_may = pd.DataFrame(y_train_may)"
      ],
      "execution_count": null,
      "outputs": []
    },
    {
      "cell_type": "code",
      "metadata": {
        "id": "rXIRmeNwdMsB",
        "colab_type": "code",
        "colab": {}
      },
      "source": [
        "y_train_may.BTC_close"
      ],
      "execution_count": null,
      "outputs": []
    },
    {
      "cell_type": "code",
      "metadata": {
        "id": "-3sFpthUa9MK",
        "colab_type": "code",
        "colab": {}
      },
      "source": [
        "#3 Feature Scaling\n",
        "sc_X = StandardScaler()\n",
        "sc_y = StandardScaler()\n",
        "X = sc_X.fit_transform(x_train_may)\n",
        "y = sc_y.fit_transform(y_train_may)"
      ],
      "execution_count": null,
      "outputs": []
    },
    {
      "cell_type": "code",
      "metadata": {
        "id": "C1EuhuV5eoaB",
        "colab_type": "code",
        "colab": {}
      },
      "source": [
        "y = y[:, 0]"
      ],
      "execution_count": null,
      "outputs": []
    },
    {
      "cell_type": "code",
      "metadata": {
        "id": "ZuY-wvDKWXWL",
        "colab_type": "code",
        "colab": {}
      },
      "source": [
        "# Load the SVR and fit\n",
        "#svr = SVR(kernel='poly')\n",
        "svr_regressor = SVR(kernel = 'poly')\n",
        "SVR_reg = svr_regressor.fit(X, y)"
      ],
      "execution_count": null,
      "outputs": []
    },
    {
      "cell_type": "code",
      "metadata": {
        "id": "iGQdB4OcWpJd",
        "colab_type": "code",
        "colab": {
          "base_uri": "https://localhost:8080/",
          "height": 257
        },
        "outputId": "0926c3ad-6b8d-4241-8c0b-ea4279d5a385"
      },
      "source": [
        "# Predict the model on the x_test data\n",
        "x_test_may = sc_X.fit_transform(x_test_may)\n",
        "\n",
        "y_pred_may_svr = SVR_reg.predict(x_test_may)\n",
        "y_pred_may_svr = sc_y.inverse_transform(y_pred_may_svr) \n",
        "\n",
        "\n",
        "y_pred_may_svr = pd.DataFrame(y_pred_may_svr)\n",
        "y_pred_may_svr['index'] = range(1,8)\n",
        "y_pred_may_svr"
      ],
      "execution_count": null,
      "outputs": [
        {
          "output_type": "execute_result",
          "data": {
            "text/html": [
              "<div>\n",
              "<style scoped>\n",
              "    .dataframe tbody tr th:only-of-type {\n",
              "        vertical-align: middle;\n",
              "    }\n",
              "\n",
              "    .dataframe tbody tr th {\n",
              "        vertical-align: top;\n",
              "    }\n",
              "\n",
              "    .dataframe thead th {\n",
              "        text-align: right;\n",
              "    }\n",
              "</style>\n",
              "<table border=\"1\" class=\"dataframe\">\n",
              "  <thead>\n",
              "    <tr style=\"text-align: right;\">\n",
              "      <th></th>\n",
              "      <th>0</th>\n",
              "      <th>index</th>\n",
              "    </tr>\n",
              "  </thead>\n",
              "  <tbody>\n",
              "    <tr>\n",
              "      <th>0</th>\n",
              "      <td>6233.990297</td>\n",
              "      <td>1</td>\n",
              "    </tr>\n",
              "    <tr>\n",
              "      <th>1</th>\n",
              "      <td>6457.953900</td>\n",
              "      <td>2</td>\n",
              "    </tr>\n",
              "    <tr>\n",
              "      <th>2</th>\n",
              "      <td>6479.903842</td>\n",
              "      <td>3</td>\n",
              "    </tr>\n",
              "    <tr>\n",
              "      <th>3</th>\n",
              "      <td>6640.965524</td>\n",
              "      <td>4</td>\n",
              "    </tr>\n",
              "    <tr>\n",
              "      <th>4</th>\n",
              "      <td>6510.529127</td>\n",
              "      <td>5</td>\n",
              "    </tr>\n",
              "    <tr>\n",
              "      <th>5</th>\n",
              "      <td>7965.608332</td>\n",
              "      <td>6</td>\n",
              "    </tr>\n",
              "    <tr>\n",
              "      <th>6</th>\n",
              "      <td>14049.828929</td>\n",
              "      <td>7</td>\n",
              "    </tr>\n",
              "  </tbody>\n",
              "</table>\n",
              "</div>"
            ],
            "text/plain": [
              "              0  index\n",
              "0   6233.990297      1\n",
              "1   6457.953900      2\n",
              "2   6479.903842      3\n",
              "3   6640.965524      4\n",
              "4   6510.529127      5\n",
              "5   7965.608332      6\n",
              "6  14049.828929      7"
            ]
          },
          "metadata": {
            "tags": []
          },
          "execution_count": 119
        }
      ]
    },
    {
      "cell_type": "code",
      "metadata": {
        "id": "7aBS0h8sgcoa",
        "colab_type": "code",
        "colab": {}
      },
      "source": [
        "# merge the prediction and actual data frames\n",
        "merge_may = merge_may.merge(y_pred_may_svr, on='index', how='left')"
      ],
      "execution_count": null,
      "outputs": []
    },
    {
      "cell_type": "code",
      "metadata": {
        "id": "-pO8vnSSgf5w",
        "colab_type": "code",
        "colab": {}
      },
      "source": [
        "merge_may.columns = ['lm_prediction', 'index', 'real', 'lasso_prediction', 'svr_prediction_rgb', 'svr_prediction_poly']"
      ],
      "execution_count": null,
      "outputs": []
    },
    {
      "cell_type": "code",
      "metadata": {
        "id": "ChVCU197gmoy",
        "colab_type": "code",
        "colab": {
          "base_uri": "https://localhost:8080/",
          "height": 257
        },
        "outputId": "6f7d7b64-2c9d-4c66-fe81-38bc739b2a46"
      },
      "source": [
        "merge_may"
      ],
      "execution_count": null,
      "outputs": [
        {
          "output_type": "execute_result",
          "data": {
            "text/html": [
              "<div>\n",
              "<style scoped>\n",
              "    .dataframe tbody tr th:only-of-type {\n",
              "        vertical-align: middle;\n",
              "    }\n",
              "\n",
              "    .dataframe tbody tr th {\n",
              "        vertical-align: top;\n",
              "    }\n",
              "\n",
              "    .dataframe thead th {\n",
              "        text-align: right;\n",
              "    }\n",
              "</style>\n",
              "<table border=\"1\" class=\"dataframe\">\n",
              "  <thead>\n",
              "    <tr style=\"text-align: right;\">\n",
              "      <th></th>\n",
              "      <th>lm_prediction</th>\n",
              "      <th>index</th>\n",
              "      <th>real</th>\n",
              "      <th>lasso_prediction</th>\n",
              "      <th>svr_prediction_rgb</th>\n",
              "      <th>svr_prediction_poly</th>\n",
              "    </tr>\n",
              "  </thead>\n",
              "  <tbody>\n",
              "    <tr>\n",
              "      <th>0</th>\n",
              "      <td>7626.086948</td>\n",
              "      <td>1</td>\n",
              "      <td>8822.800000</td>\n",
              "      <td>7619.051456</td>\n",
              "      <td>6058.661102</td>\n",
              "      <td>6233.990297</td>\n",
              "    </tr>\n",
              "    <tr>\n",
              "      <th>1</th>\n",
              "      <td>7526.599476</td>\n",
              "      <td>2</td>\n",
              "      <td>8982.300000</td>\n",
              "      <td>7540.843968</td>\n",
              "      <td>5776.526021</td>\n",
              "      <td>6457.953900</td>\n",
              "    </tr>\n",
              "    <tr>\n",
              "      <th>2</th>\n",
              "      <td>7690.725950</td>\n",
              "      <td>3</td>\n",
              "      <td>8899.800000</td>\n",
              "      <td>7704.844636</td>\n",
              "      <td>6008.156916</td>\n",
              "      <td>6479.903842</td>\n",
              "    </tr>\n",
              "    <tr>\n",
              "      <th>3</th>\n",
              "      <td>7793.804550</td>\n",
              "      <td>4</td>\n",
              "      <td>8865.800000</td>\n",
              "      <td>7797.110522</td>\n",
              "      <td>6429.360692</td>\n",
              "      <td>6640.965524</td>\n",
              "    </tr>\n",
              "    <tr>\n",
              "      <th>4</th>\n",
              "      <td>7850.899369</td>\n",
              "      <td>5</td>\n",
              "      <td>9020.100000</td>\n",
              "      <td>7814.768118</td>\n",
              "      <td>6462.714961</td>\n",
              "      <td>6510.529127</td>\n",
              "    </tr>\n",
              "    <tr>\n",
              "      <th>5</th>\n",
              "      <td>8888.264968</td>\n",
              "      <td>6</td>\n",
              "      <td>9152.470993</td>\n",
              "      <td>8932.928478</td>\n",
              "      <td>10266.870433</td>\n",
              "      <td>7965.608332</td>\n",
              "    </tr>\n",
              "    <tr>\n",
              "      <th>6</th>\n",
              "      <td>8836.952715</td>\n",
              "      <td>7</td>\n",
              "      <td>9979.600000</td>\n",
              "      <td>8831.216923</td>\n",
              "      <td>11074.242543</td>\n",
              "      <td>14049.828929</td>\n",
              "    </tr>\n",
              "  </tbody>\n",
              "</table>\n",
              "</div>"
            ],
            "text/plain": [
              "   lm_prediction  index         real  lasso_prediction  svr_prediction_rgb  \\\n",
              "0    7626.086948      1  8822.800000       7619.051456         6058.661102   \n",
              "1    7526.599476      2  8982.300000       7540.843968         5776.526021   \n",
              "2    7690.725950      3  8899.800000       7704.844636         6008.156916   \n",
              "3    7793.804550      4  8865.800000       7797.110522         6429.360692   \n",
              "4    7850.899369      5  9020.100000       7814.768118         6462.714961   \n",
              "5    8888.264968      6  9152.470993       8932.928478        10266.870433   \n",
              "6    8836.952715      7  9979.600000       8831.216923        11074.242543   \n",
              "\n",
              "   svr_prediction_poly  \n",
              "0          6233.990297  \n",
              "1          6457.953900  \n",
              "2          6479.903842  \n",
              "3          6640.965524  \n",
              "4          6510.529127  \n",
              "5          7965.608332  \n",
              "6         14049.828929  "
            ]
          },
          "metadata": {
            "tags": []
          },
          "execution_count": 124
        }
      ]
    },
    {
      "cell_type": "code",
      "metadata": {
        "id": "T5kc3T4UgpuY",
        "colab_type": "code",
        "colab": {
          "base_uri": "https://localhost:8080/",
          "height": 280
        },
        "outputId": "64c2f0b6-8222-4dfd-bd4d-2515f6fc4100"
      },
      "source": [
        "# Plot the predicted vs actual in matplot lib\n",
        "import matplotlib.pyplot as plt\n",
        "plt.plot( 'index', 'real', data=merge_may, marker='o', markerfacecolor='blue', markersize=12, color='skyblue', linewidth=4)\n",
        "plt.plot( 'index', 'lm_prediction', data=merge_may, marker='', color='olive', linewidth=2)\n",
        "plt.plot( 'index', 'lasso_prediction', data=merge_may, marker='', color='red', linewidth=2)\n",
        "plt.plot( 'index', 'svr_prediction_rgb', data=merge_may, marker='', color='green', linewidth=2)\n",
        "plt.plot( 'index', 'svr_prediction_poly', data=merge_may, marker='', color='yellow', linewidth=2)\n",
        "plt.xticks(rotation='vertical')\n",
        "plt.legend()"
      ],
      "execution_count": null,
      "outputs": [
        {
          "output_type": "execute_result",
          "data": {
            "text/plain": [
              "<matplotlib.legend.Legend at 0x7f9620b26f28>"
            ]
          },
          "metadata": {
            "tags": []
          },
          "execution_count": 125
        },
        {
          "output_type": "display_data",
          "data": {
            "image/png": "[encoded data removed]",
            "text/plain": [
              "<Figure size 432x288 with 1 Axes>"
            ]
          },
          "metadata": {
            "tags": [],
            "needs_background": "light"
          }
        }
      ]
    },
    {
      "cell_type": "markdown",
      "metadata": {
        "id": "9bZ_EtdkwfKw",
        "colab_type": "text"
      },
      "source": [
        "# Linear Model - July"
      ]
    },
    {
      "cell_type": "code",
      "metadata": {
        "colab_type": "code",
        "id": "MWJ6grU7wi3n",
        "colab": {}
      },
      "source": [
        "# Runt he linear regressor over the x and y training data\n",
        "model = LinearRegression().fit(x_train_july, y_train_july)"
      ],
      "execution_count": null,
      "outputs": []
    },
    {
      "cell_type": "code",
      "metadata": {
        "colab_type": "code",
        "id": "YRrivltjwi3t",
        "colab": {
          "base_uri": "https://localhost:8080/",
          "height": 545
        },
        "outputId": "056ddf35-d693-4ece-bdaf-9ceb66e8da54"
      },
      "source": [
        "# Runt he linear regressor over the x and y training data\n",
        "from statsmodels.api import OLS\n",
        "OLS(y_train_july,x_train_july).fit().summary()"
      ],
      "execution_count": null,
      "outputs": [
        {
          "output_type": "execute_result",
          "data": {
            "text/html": [
              "<table class=\"simpletable\">\n",
              "<caption>OLS Regression Results</caption>\n",
              "<tr>\n",
              "  <th>Dep. Variable:</th>        <td>BTC_close</td>    <th>  R-squared (uncentered):</th>      <td>   0.985</td> \n",
              "</tr>\n",
              "<tr>\n",
              "  <th>Model:</th>                   <td>OLS</td>       <th>  Adj. R-squared (uncentered):</th> <td>   0.985</td> \n",
              "</tr>\n",
              "<tr>\n",
              "  <th>Method:</th>             <td>Least Squares</td>  <th>  F-statistic:       </th>          <td>   8241.</td> \n",
              "</tr>\n",
              "<tr>\n",
              "  <th>Date:</th>             <td>Sat, 29 Aug 2020</td> <th>  Prob (F-statistic):</th>           <td>  0.00</td>  \n",
              "</tr>\n",
              "<tr>\n",
              "  <th>Time:</th>                 <td>05:02:31</td>     <th>  Log-Likelihood:    </th>          <td> -9371.7</td> \n",
              "</tr>\n",
              "<tr>\n",
              "  <th>No. Observations:</th>      <td>  1131</td>      <th>  AIC:               </th>          <td>1.876e+04</td>\n",
              "</tr>\n",
              "<tr>\n",
              "  <th>Df Residuals:</th>          <td>  1122</td>      <th>  BIC:               </th>          <td>1.881e+04</td>\n",
              "</tr>\n",
              "<tr>\n",
              "  <th>Df Model:</th>              <td>     9</td>      <th>                     </th>              <td> </td>    \n",
              "</tr>\n",
              "<tr>\n",
              "  <th>Covariance Type:</th>      <td>nonrobust</td>    <th>                     </th>              <td> </td>    \n",
              "</tr>\n",
              "</table>\n",
              "<table class=\"simpletable\">\n",
              "<tr>\n",
              "        <td></td>           <th>coef</th>     <th>std err</th>      <th>t</th>      <th>P>|t|</th>  <th>[0.025</th>    <th>0.975]</th>  \n",
              "</tr>\n",
              "<tr>\n",
              "  <th>ETHER_open</th>    <td>    1.4717</td> <td>    1.651</td> <td>    0.891</td> <td> 0.373</td> <td>   -1.768</td> <td>    4.712</td>\n",
              "</tr>\n",
              "<tr>\n",
              "  <th>ETHER_close</th>   <td>   -2.3577</td> <td>    1.657</td> <td>   -1.423</td> <td> 0.155</td> <td>   -5.609</td> <td>    0.893</td>\n",
              "</tr>\n",
              "<tr>\n",
              "  <th>ETHER_vol</th>     <td>   -0.0003</td> <td>    0.000</td> <td>   -1.451</td> <td> 0.147</td> <td>   -0.001</td> <td>    0.000</td>\n",
              "</tr>\n",
              "<tr>\n",
              "  <th>XRP_open</th>      <td>-3442.9932</td> <td>  726.922</td> <td>   -4.736</td> <td> 0.000</td> <td>-4869.273</td> <td>-2016.714</td>\n",
              "</tr>\n",
              "<tr>\n",
              "  <th>XRP_close</th>     <td> 2938.4025</td> <td>  739.956</td> <td>    3.971</td> <td> 0.000</td> <td> 1486.550</td> <td> 4390.255</td>\n",
              "</tr>\n",
              "<tr>\n",
              "  <th>XRP_vol</th>       <td>-1.306e-06</td> <td> 6.39e-07</td> <td>   -2.042</td> <td> 0.041</td> <td>-2.56e-06</td> <td>-5.12e-08</td>\n",
              "</tr>\n",
              "<tr>\n",
              "  <th>BTC_open_dup</th>  <td>    0.1473</td> <td>    0.094</td> <td>    1.560</td> <td> 0.119</td> <td>   -0.038</td> <td>    0.332</td>\n",
              "</tr>\n",
              "<tr>\n",
              "  <th>BTC_close_dup</th> <td>    0.8783</td> <td>    0.094</td> <td>    9.367</td> <td> 0.000</td> <td>    0.694</td> <td>    1.062</td>\n",
              "</tr>\n",
              "<tr>\n",
              "  <th>BTC_vol_dup</th>   <td>    0.0158</td> <td>    0.002</td> <td>    8.462</td> <td> 0.000</td> <td>    0.012</td> <td>    0.019</td>\n",
              "</tr>\n",
              "</table>\n",
              "<table class=\"simpletable\">\n",
              "<tr>\n",
              "  <th>Omnibus:</th>       <td>157.657</td> <th>  Durbin-Watson:     </th> <td>   0.352</td>\n",
              "</tr>\n",
              "<tr>\n",
              "  <th>Prob(Omnibus):</th> <td> 0.000</td>  <th>  Jarque-Bera (JB):  </th> <td>1921.012</td>\n",
              "</tr>\n",
              "<tr>\n",
              "  <th>Skew:</th>          <td> 0.006</td>  <th>  Prob(JB):          </th> <td>    0.00</td>\n",
              "</tr>\n",
              "<tr>\n",
              "  <th>Kurtosis:</th>      <td> 9.385</td>  <th>  Cond. No.          </th> <td>2.65e+09</td>\n",
              "</tr>\n",
              "</table><br/><br/>Warnings:<br/>[1] Standard Errors assume that the covariance matrix of the errors is correctly specified.<br/>[2] The condition number is large, 2.65e+09. This might indicate that there are<br/>strong multicollinearity or other numerical problems."
            ],
            "text/plain": [
              "<class 'statsmodels.iolib.summary.Summary'>\n",
              "\"\"\"\n",
              "                                 OLS Regression Results                                \n",
              "=======================================================================================\n",
              "Dep. Variable:              BTC_close   R-squared (uncentered):                   0.985\n",
              "Model:                            OLS   Adj. R-squared (uncentered):              0.985\n",
              "Method:                 Least Squares   F-statistic:                              8241.\n",
              "Date:                Sat, 29 Aug 2020   Prob (F-statistic):                        0.00\n",
              "Time:                        05:02:31   Log-Likelihood:                         -9371.7\n",
              "No. Observations:                1131   AIC:                                  1.876e+04\n",
              "Df Residuals:                    1122   BIC:                                  1.881e+04\n",
              "Df Model:                           9                                                  \n",
              "Covariance Type:            nonrobust                                                  \n",
              "=================================================================================\n",
              "                    coef    std err          t      P>|t|      [0.025      0.975]\n",
              "---------------------------------------------------------------------------------\n",
              "ETHER_open        1.4717      1.651      0.891      0.373      -1.768       4.712\n",
              "ETHER_close      -2.3577      1.657     -1.423      0.155      -5.609       0.893\n",
              "ETHER_vol        -0.0003      0.000     -1.451      0.147      -0.001       0.000\n",
              "XRP_open      -3442.9932    726.922     -4.736      0.000   -4869.273   -2016.714\n",
              "XRP_close      2938.4025    739.956      3.971      0.000    1486.550    4390.255\n",
              "XRP_vol       -1.306e-06   6.39e-07     -2.042      0.041   -2.56e-06   -5.12e-08\n",
              "BTC_open_dup      0.1473      0.094      1.560      0.119      -0.038       0.332\n",
              "BTC_close_dup     0.8783      0.094      9.367      0.000       0.694       1.062\n",
              "BTC_vol_dup       0.0158      0.002      8.462      0.000       0.012       0.019\n",
              "==============================================================================\n",
              "Omnibus:                      157.657   Durbin-Watson:                   0.352\n",
              "Prob(Omnibus):                  0.000   Jarque-Bera (JB):             1921.012\n",
              "Skew:                           0.006   Prob(JB):                         0.00\n",
              "Kurtosis:                       9.385   Cond. No.                     2.65e+09\n",
              "==============================================================================\n",
              "\n",
              "Warnings:\n",
              "[1] Standard Errors assume that the covariance matrix of the errors is correctly specified.\n",
              "[2] The condition number is large, 2.65e+09. This might indicate that there are\n",
              "strong multicollinearity or other numerical problems.\n",
              "\"\"\""
            ]
          },
          "metadata": {
            "tags": []
          },
          "execution_count": 158
        }
      ]
    },
    {
      "cell_type": "code",
      "metadata": {
        "colab_type": "code",
        "id": "DM4I5EHOwi3z",
        "colab": {}
      },
      "source": [
        "# Predict the model on the x_test data\n",
        "y_pred_july = pd.DataFrame(model.predict(x_test_july))\n",
        "y_pred_july['index'] = range(1,8)"
      ],
      "execution_count": null,
      "outputs": []
    },
    {
      "cell_type": "code",
      "metadata": {
        "colab_type": "code",
        "id": "s2HIKXOfwi36",
        "colab": {}
      },
      "source": [
        "y_test_july = pd.DataFrame(y_test_july)[0:7]\n",
        "y_test_july['index'] = range(1,8)"
      ],
      "execution_count": null,
      "outputs": []
    },
    {
      "cell_type": "code",
      "metadata": {
        "colab_type": "code",
        "id": "b_grw7BKwi4A",
        "colab": {}
      },
      "source": [
        "# merge the prediction and actual data frames\n",
        "merge_july = y_pred_july.merge(y_test_july, on='index', how='left')"
      ],
      "execution_count": null,
      "outputs": []
    },
    {
      "cell_type": "code",
      "metadata": {
        "colab_type": "code",
        "id": "ZBX-XuUgwi4C",
        "colab": {}
      },
      "source": [
        "merge_july.columns = ['lm_prediction', 'index', 'real']"
      ],
      "execution_count": null,
      "outputs": []
    },
    {
      "cell_type": "code",
      "metadata": {
        "colab_type": "code",
        "id": "SV8YXbxAwi4J",
        "colab": {
          "base_uri": "https://localhost:8080/",
          "height": 34
        },
        "outputId": "0baceaa5-15bf-4872-eae6-62bf25b72ad3"
      },
      "source": [
        "MSE = mean_squared_error(y_true = merge_july.real, y_pred = merge_july.lm_prediction)\n",
        "np.sqrt(MSE)"
      ],
      "execution_count": null,
      "outputs": [
        {
          "output_type": "execute_result",
          "data": {
            "text/plain": [
              "127.55786750036722"
            ]
          },
          "metadata": {
            "tags": []
          },
          "execution_count": 163
        }
      ]
    },
    {
      "cell_type": "code",
      "metadata": {
        "colab_type": "code",
        "id": "-N_Xgpj8wi4L",
        "colab": {
          "base_uri": "https://localhost:8080/",
          "height": 34
        },
        "outputId": "2d7047ad-428f-4b41-ffa9-66b34d095bbf"
      },
      "source": [
        "# Calculate the r_square value for the linear model\n",
        "r_sq = model.score(x_train_july, y_train_july)\n",
        "print('coefficient of determination:', r_sq)"
      ],
      "execution_count": null,
      "outputs": [
        {
          "output_type": "stream",
          "text": [
            "coefficient of determination: 0.8942229300571196\n"
          ],
          "name": "stdout"
        }
      ]
    },
    {
      "cell_type": "code",
      "metadata": {
        "colab_type": "code",
        "id": "l4IDli7rwi4R",
        "colab": {
          "base_uri": "https://localhost:8080/",
          "height": 280
        },
        "outputId": "310efa5e-e2af-4282-ccb5-8e6a90b5f0f3"
      },
      "source": [
        "# Plot the predicted vs actual in matplot lib\n",
        "import matplotlib.pyplot as plt\n",
        "plt.plot( 'index', 'real', data=merge_july, marker='o', markerfacecolor='blue', markersize=12, color='skyblue', linewidth=4)\n",
        "plt.plot( 'index', 'lm_prediction', data=merge_july, marker='', color='olive', linewidth=2)\n",
        "plt.xticks(rotation='vertical')\n",
        "plt.legend()"
      ],
      "execution_count": null,
      "outputs": [
        {
          "output_type": "execute_result",
          "data": {
            "text/plain": [
              "<matplotlib.legend.Legend at 0x7f9620853080>"
            ]
          },
          "metadata": {
            "tags": []
          },
          "execution_count": 166
        },
        {
          "output_type": "display_data",
          "data": {
            "image/png": "[encoded data removed]",
            "text/plain": [
              "<Figure size 432x288 with 1 Axes>"
            ]
          },
          "metadata": {
            "tags": [],
            "needs_background": "light"
          }
        }
      ]
    },
    {
      "cell_type": "markdown",
      "metadata": {
        "colab_type": "text",
        "id": "y5KT3m0S4w-P"
      },
      "source": [
        "# Lasso Regression - July"
      ]
    },
    {
      "cell_type": "code",
      "metadata": {
        "colab_type": "code",
        "id": "CRiGfTY04w-Y",
        "colab": {}
      },
      "source": [
        "from sklearn.linear_model import Lasso\n",
        "from sklearn.model_selection import GridSearchCV\n",
        "\n",
        "lasso = Lasso()"
      ],
      "execution_count": null,
      "outputs": []
    },
    {
      "cell_type": "code",
      "metadata": {
        "colab_type": "code",
        "id": "rcCbQ2uX4w-j",
        "colab": {}
      },
      "source": [
        "params = {'alpha': [1e-15, 1e-10, 1e-8, 1e-4, 1e-3, 1e-2, 1, 5, 10, 20]}"
      ],
      "execution_count": null,
      "outputs": []
    },
    {
      "cell_type": "code",
      "metadata": {
        "colab_type": "code",
        "id": "g3UNNgT74w-s",
        "colab": {}
      },
      "source": [
        "lasso_regressor = GridSearchCV(lasso, params, scoring = 'neg_mean_squared_error', cv=5)"
      ],
      "execution_count": null,
      "outputs": []
    },
    {
      "cell_type": "code",
      "metadata": {
        "colab_type": "code",
        "id": "sYmA2BgN4w-y",
        "colab": {}
      },
      "source": [
        "lasso = lasso_regressor.fit(x_train_july, y_train_july)"
      ],
      "execution_count": null,
      "outputs": []
    },
    {
      "cell_type": "code",
      "metadata": {
        "colab_type": "code",
        "id": "YncerhZ44w-3",
        "colab": {
          "base_uri": "https://localhost:8080/",
          "height": 34
        },
        "outputId": "747ea76f-c82d-4af9-97a0-91570c22ada4"
      },
      "source": [
        "print(lasso.best_params_)"
      ],
      "execution_count": null,
      "outputs": [
        {
          "output_type": "stream",
          "text": [
            "{'alpha': 1e-15}\n"
          ],
          "name": "stdout"
        }
      ]
    },
    {
      "cell_type": "code",
      "metadata": {
        "colab_type": "code",
        "id": "kpvmeHLC4w-8",
        "colab": {
          "base_uri": "https://localhost:8080/",
          "height": 34
        },
        "outputId": "718f13fa-9e5c-4982-eb25-e002d82a2a55"
      },
      "source": [
        "print(lasso.best_score_)"
      ],
      "execution_count": null,
      "outputs": [
        {
          "output_type": "stream",
          "text": [
            "-997010.4666424043\n"
          ],
          "name": "stdout"
        }
      ]
    },
    {
      "cell_type": "code",
      "metadata": {
        "colab_type": "code",
        "id": "_Fd56mmU4w_D",
        "colab": {}
      },
      "source": [
        "# Predict the model on the x_test data\n",
        "y_pred_july_lasso = pd.DataFrame(lasso.predict(x_test_july))\n",
        "y_pred_july_lasso['index'] = range(1,8)"
      ],
      "execution_count": null,
      "outputs": []
    },
    {
      "cell_type": "code",
      "metadata": {
        "colab_type": "code",
        "id": "N53OKcrh4w_K",
        "colab": {}
      },
      "source": [
        "# merge the prediction and actual data frames\n",
        "merge_july = merge_july.merge(y_pred_july_lasso, on='index', how='left')"
      ],
      "execution_count": null,
      "outputs": []
    },
    {
      "cell_type": "code",
      "metadata": {
        "colab_type": "code",
        "id": "zbIsU2-l4w_X",
        "colab": {}
      },
      "source": [
        "merge_july.columns = ['lm_prediction', 'index', 'real', 'lasso_prediction']"
      ],
      "execution_count": null,
      "outputs": []
    },
    {
      "cell_type": "code",
      "metadata": {
        "colab_type": "code",
        "id": "irHacil04w_t",
        "colab": {
          "base_uri": "https://localhost:8080/",
          "height": 34
        },
        "outputId": "1de3c412-be11-4105-f299-25075b597c63"
      },
      "source": [
        "MSE = mean_squared_error(y_true = merge_july.real, y_pred = merge_july.lasso_prediction)\n",
        "np.sqrt(MSE)"
      ],
      "execution_count": null,
      "outputs": [
        {
          "output_type": "execute_result",
          "data": {
            "text/plain": [
              "127.57497646038792"
            ]
          },
          "metadata": {
            "tags": []
          },
          "execution_count": 177
        }
      ]
    },
    {
      "cell_type": "code",
      "metadata": {
        "colab_type": "code",
        "id": "v0OMJPDR4w_5",
        "colab": {
          "base_uri": "https://localhost:8080/",
          "height": 280
        },
        "outputId": "07eb5ed1-e528-48a0-8ae4-58701e0d6334"
      },
      "source": [
        "# Plot the predicted vs actual in matplot lib\n",
        "import matplotlib.pyplot as plt\n",
        "plt.plot( 'index', 'real', data=merge_july, marker='o', markerfacecolor='blue', markersize=12, color='skyblue', linewidth=4)\n",
        "plt.plot( 'index', 'lm_prediction', data=merge_july, marker='', color='olive', linewidth=2)\n",
        "plt.plot( 'index', 'lasso_prediction', data=merge_july, marker='', color='red', linewidth=2)\n",
        "plt.xticks(rotation='vertical')\n",
        "plt.legend()"
      ],
      "execution_count": null,
      "outputs": [
        {
          "output_type": "execute_result",
          "data": {
            "text/plain": [
              "<matplotlib.legend.Legend at 0x7f9620784b00>"
            ]
          },
          "metadata": {
            "tags": []
          },
          "execution_count": 179
        },
        {
          "output_type": "display_data",
          "data": {
            "image/png": "[encoded data removed]",
            "text/plain": [
              "<Figure size 432x288 with 1 Axes>"
            ]
          },
          "metadata": {
            "tags": [],
            "needs_background": "light"
          }
        }
      ]
    },
    {
      "cell_type": "markdown",
      "metadata": {
        "colab_type": "text",
        "id": "AIxd-aXGiVgV"
      },
      "source": [
        "# Support Vector Regression - July"
      ]
    },
    {
      "cell_type": "code",
      "metadata": {
        "colab_type": "code",
        "id": "Hrih_EZriVgY",
        "colab": {}
      },
      "source": [
        "# Import the algorithm package\n",
        "from sklearn.svm import SVR\n",
        "from sklearn.pipeline import make_pipeline\n",
        "from sklearn.preprocessing import StandardScaler"
      ],
      "execution_count": null,
      "outputs": []
    },
    {
      "cell_type": "code",
      "metadata": {
        "colab_type": "code",
        "id": "fJ3RjUcfiVgb",
        "colab": {}
      },
      "source": [
        "y_train_july = pd.DataFrame(y_train_july)"
      ],
      "execution_count": null,
      "outputs": []
    },
    {
      "cell_type": "code",
      "metadata": {
        "colab_type": "code",
        "id": "jIAT5eSTiVgg",
        "colab": {}
      },
      "source": [
        "#3 Feature Scaling\n",
        "sc_X = StandardScaler()\n",
        "sc_y = StandardScaler()\n",
        "X = sc_X.fit_transform(x_train_july)\n",
        "y = sc_y.fit_transform(y_train_july)"
      ],
      "execution_count": null,
      "outputs": []
    },
    {
      "cell_type": "code",
      "metadata": {
        "colab_type": "code",
        "id": "UMQzYTM6iVgi",
        "colab": {}
      },
      "source": [
        "y = y[:, 0]"
      ],
      "execution_count": null,
      "outputs": []
    },
    {
      "cell_type": "code",
      "metadata": {
        "colab_type": "code",
        "id": "4SyMGtitiVgk",
        "colab": {}
      },
      "source": [
        "# Load the SVR and fit\n",
        "#svr = SVR(kernel='poly')\n",
        "svr_regressor = SVR(kernel = 'rbf')\n",
        "SVR_reg = svr_regressor.fit(X, y)"
      ],
      "execution_count": null,
      "outputs": []
    },
    {
      "cell_type": "code",
      "metadata": {
        "colab_type": "code",
        "id": "c6i-mX6GiVgm",
        "colab": {
          "base_uri": "https://localhost:8080/",
          "height": 257
        },
        "outputId": "c3def5ab-2c55-4dc9-de01-80ac9b9ed5fa"
      },
      "source": [
        "# Predict the model on the x_test data\n",
        "x_test_july = sc_X.fit_transform(x_test_july)\n",
        "\n",
        "y_pred_july_svr = SVR_reg.predict(x_test_july)\n",
        "y_pred_july_svr = sc_y.inverse_transform(y_pred_july_svr) \n",
        "\n",
        "\n",
        "y_pred_july_svr = pd.DataFrame(y_pred_july_svr)\n",
        "y_pred_july_svr['index'] = range(1,8)\n",
        "y_pred_july_svr"
      ],
      "execution_count": null,
      "outputs": [
        {
          "output_type": "execute_result",
          "data": {
            "text/html": [
              "<div>\n",
              "<style scoped>\n",
              "    .dataframe tbody tr th:only-of-type {\n",
              "        vertical-align: middle;\n",
              "    }\n",
              "\n",
              "    .dataframe tbody tr th {\n",
              "        vertical-align: top;\n",
              "    }\n",
              "\n",
              "    .dataframe thead th {\n",
              "        text-align: right;\n",
              "    }\n",
              "</style>\n",
              "<table border=\"1\" class=\"dataframe\">\n",
              "  <thead>\n",
              "    <tr style=\"text-align: right;\">\n",
              "      <th></th>\n",
              "      <th>0</th>\n",
              "      <th>index</th>\n",
              "    </tr>\n",
              "  </thead>\n",
              "  <tbody>\n",
              "    <tr>\n",
              "      <th>0</th>\n",
              "      <td>11114.335817</td>\n",
              "      <td>1</td>\n",
              "    </tr>\n",
              "    <tr>\n",
              "      <th>1</th>\n",
              "      <td>9753.279073</td>\n",
              "      <td>2</td>\n",
              "    </tr>\n",
              "    <tr>\n",
              "      <th>2</th>\n",
              "      <td>7710.265580</td>\n",
              "      <td>3</td>\n",
              "    </tr>\n",
              "    <tr>\n",
              "      <th>3</th>\n",
              "      <td>6254.006371</td>\n",
              "      <td>4</td>\n",
              "    </tr>\n",
              "    <tr>\n",
              "      <th>4</th>\n",
              "      <td>6684.506516</td>\n",
              "      <td>5</td>\n",
              "    </tr>\n",
              "    <tr>\n",
              "      <th>5</th>\n",
              "      <td>8418.032689</td>\n",
              "      <td>6</td>\n",
              "    </tr>\n",
              "    <tr>\n",
              "      <th>6</th>\n",
              "      <td>7517.340586</td>\n",
              "      <td>7</td>\n",
              "    </tr>\n",
              "  </tbody>\n",
              "</table>\n",
              "</div>"
            ],
            "text/plain": [
              "              0  index\n",
              "0  11114.335817      1\n",
              "1   9753.279073      2\n",
              "2   7710.265580      3\n",
              "3   6254.006371      4\n",
              "4   6684.506516      5\n",
              "5   8418.032689      6\n",
              "6   7517.340586      7"
            ]
          },
          "metadata": {
            "tags": []
          },
          "execution_count": 185
        }
      ]
    },
    {
      "cell_type": "code",
      "metadata": {
        "colab_type": "code",
        "id": "AbQZwak2iVgq",
        "colab": {}
      },
      "source": [
        "# merge the prediction and actual data frames\n",
        "merge_july = merge_july.merge(y_pred_july_svr, on='index', how='left')"
      ],
      "execution_count": null,
      "outputs": []
    },
    {
      "cell_type": "code",
      "metadata": {
        "colab_type": "code",
        "id": "csNTmmV5iVgs",
        "colab": {}
      },
      "source": [
        "merge_july.columns = ['lm_prediction', 'index', 'real', 'lasso_prediction', 'svr_prediction']"
      ],
      "execution_count": null,
      "outputs": []
    },
    {
      "cell_type": "code",
      "metadata": {
        "colab_type": "code",
        "id": "7h_d5dLCiVgw",
        "colab": {
          "base_uri": "https://localhost:8080/",
          "height": 280
        },
        "outputId": "75704482-6605-4a45-cf21-d3df815f0727"
      },
      "source": [
        "# Plot the predicted vs actual in matplot lib\n",
        "import matplotlib.pyplot as plt\n",
        "plt.plot( 'index', 'real', data=merge_july, marker='o', markerfacecolor='blue', markersize=12, color='skyblue', linewidth=4)\n",
        "plt.plot( 'index', 'lm_prediction', data=merge_july, marker='', color='olive', linewidth=2)\n",
        "plt.plot( 'index', 'lasso_prediction', data=merge_july, marker='', color='red', linewidth=2)\n",
        "plt.plot( 'index', 'svr_prediction', data=merge_july, marker='', color='green', linewidth=2)\n",
        "plt.xticks(rotation='vertical')\n",
        "plt.legend()"
      ],
      "execution_count": null,
      "outputs": [
        {
          "output_type": "execute_result",
          "data": {
            "text/plain": [
              "<matplotlib.legend.Legend at 0x7f9620708b00>"
            ]
          },
          "metadata": {
            "tags": []
          },
          "execution_count": 189
        },
        {
          "output_type": "display_data",
          "data": {
            "image/png": "[encoded data removed]",
            "text/plain": [
              "<Figure size 432x288 with 1 Axes>"
            ]
          },
          "metadata": {
            "tags": [],
            "needs_background": "light"
          }
        }
      ]
    }
  ]
}