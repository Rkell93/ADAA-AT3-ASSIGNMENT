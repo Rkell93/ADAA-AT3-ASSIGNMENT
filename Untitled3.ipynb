{
  "nbformat": 4,
  "nbformat_minor": 0,
  "metadata": {
    "colab": {
      "name": "Untitled3.ipynb",
      "provenance": [],
      "collapsed_sections": [],
      "include_colab_link": true
    },
    "kernelspec": {
      "name": "python3",
      "display_name": "Python 3"
    }
  },
  "cells": [
    {
      "cell_type": "markdown",
      "metadata": {
        "id": "view-in-github",
        "colab_type": "text"
      },
      "source": [
        "<a href=\"https://colab.research.google.com/github/Rkell93/ADAA-AT3-ASSIGNMENT/blob/master/Untitled3.ipynb\" target=\"_parent\"><img src=\"https://colab.research.google.com/assets/colab-badge.svg\" alt=\"Open In Colab\"/></a>"
      ]
    },
    {
      "cell_type": "markdown",
      "metadata": {
        "id": "6SVbntPvdNhr",
        "colab_type": "text"
      },
      "source": [
        "# The Detection of Exoplanets Orbiting Stars in the Milky Way Galaxy using data produced by the Kepler Space Telescope "
      ]
    },
    {
      "cell_type": "markdown",
      "metadata": {
        "id": "nfbDVDBNd-Ed",
        "colab_type": "text"
      },
      "source": [
        "AIMS\n",
        "\n",
        "The aim of this project is to use Kepler Space Telescope data, through the transmission spectroscopy methodology, to detect exoplanets orbiting stars in the Milky Way Galaxy. The aim of this project can be understood as three primary objectives; \n",
        "\n",
        "1. Download open-source data from the Kepler Space Telescope Archive in order to construct training and testing sets for the machine learning task. \n",
        "2. Given the nature of the task, to determine whether or not the light curve data (transmission spectroscopy data) presents enough evidence of an orbiting exoplanet, the task is therefore classification. The second objective is therefore to build multiple classifiers that can differentiate exoplanets from other celestial bodies. \n",
        "3. Determine the most successful classifier based on the results of the tests and then deploy it on different data sets collected by different telescopic experiments. "
      ]
    },
    {
      "cell_type": "markdown",
      "metadata": {
        "id": "UsT4RJOid_7c",
        "colab_type": "text"
      },
      "source": [
        "BACKGROUND"
      ]
    },
    {
      "cell_type": "markdown",
      "metadata": {
        "id": "WD3epRHUeFTL",
        "colab_type": "text"
      },
      "source": [
        "RESEARCH PROJECT"
      ]
    },
    {
      "cell_type": "markdown",
      "metadata": {
        "id": "EYa0G4xdeIU7",
        "colab_type": "text"
      },
      "source": [
        "BUDGET"
      ]
    },
    {
      "cell_type": "markdown",
      "metadata": {
        "id": "cX6gzlwfeJFb",
        "colab_type": "text"
      },
      "source": [
        "PERSONNEL"
      ]
    },
    {
      "cell_type": "markdown",
      "metadata": {
        "id": "RUMDjXsneLQE",
        "colab_type": "text"
      },
      "source": [
        "REFERENCES\n",
        "\n",
        "https://arxiv.org/pdf/1709.05941.pdf\n",
        "https://www.altoros.com/blog/how-nasa-uses-artificial-intelligence-to-detect-exoplanets/\n",
        "https://exoplanets.nasa.gov/resources/297/a-planets-transmission-spectrum/"
      ]
    }
  ]
}