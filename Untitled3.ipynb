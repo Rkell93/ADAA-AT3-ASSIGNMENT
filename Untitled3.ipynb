{
  "nbformat": 4,
  "nbformat_minor": 0,
  "metadata": {
    "colab": {
      "name": "Untitled3.ipynb",
      "provenance": [],
      "collapsed_sections": [],
      "include_colab_link": true
    },
    "kernelspec": {
      "name": "python3",
      "display_name": "Python 3"
    }
  },
  "cells": [
    {
      "cell_type": "markdown",
      "metadata": {
        "id": "view-in-github",
        "colab_type": "text"
      },
      "source": [
        "<a href=\"https://colab.research.google.com/github/Rkell93/ADAA-AT3-ASSIGNMENT/blob/master/Untitled3.ipynb\" target=\"_parent\"><img src=\"https://colab.research.google.com/assets/colab-badge.svg\" alt=\"Open In Colab\"/></a>"
      ]
    },
    {
      "cell_type": "markdown",
      "metadata": {
        "id": "6SVbntPvdNhr",
        "colab_type": "text"
      },
      "source": [
        "# The Detection of Exoplanets Orbiting Stars in the Milky Way Galaxy using data produced by the Kepler Space Telescope "
      ]
    },
    {
      "cell_type": "markdown",
      "metadata": {
        "id": "nfbDVDBNd-Ed",
        "colab_type": "text"
      },
      "source": [
        "# **AIMS**\n",
        "\n",
        "The aim of this project is to use Kepler Space Telescope data, through the transmission spectroscopy methodology, to detect exoplanets orbiting stars in the Milky Way Galaxy. The aim of this project can be understood as three primary objectives; \n",
        "\n",
        "1. Download open-source data from the Kepler Space Telescope Archive in order to construct training and testing sets for the machine learning task. \n",
        "2. Given the nature of the task, to determine whether or not the light curve data (transmission spectroscopy data) presents enough evidence of an orbiting exoplanet, the task is therefore classification. The second objective is therefore to build multiple classifiers that can differentiate exoplanets from other celestial bodies. \n",
        "3. Determine the most successful classifier based on the results of the tests and then deploy it on different data sets collected by different telescopic experiments. "
      ]
    },
    {
      "cell_type": "markdown",
      "metadata": {
        "id": "UsT4RJOid_7c",
        "colab_type": "text"
      },
      "source": [
        "# **BACKGROUND**\n",
        "\n",
        "Given the take-off of machine learning and artificial intelligence over the last decade, it was only a matter of time before it was applied to the data sets compiled by deep-space spacecraft that are photographing and measuring our galaxy and the universe. One such spacecraft, Kepler, has the job of measuring the stellar flux (the amoung of light radiating from a star) over long periods of time. So, when a planet or other celestial object passes between the telescope and the star, there is a drop in the amount of light being radiated from the star momentarily. This therefore creates a drop in a 'light curve' graph. Therefore, the purpose of this project is to be able to detect the momentary decreases in light emission from stars in the hope that they may be caused by exoplanets. \n",
        "\n",
        "Existing Methods\n",
        "\n",
        "In order to solve the problem, researchers have previously a neural network to resolve the problem. A recent success of the application of a neural network on the Kepler Space Telescope data set by NASA led to the discovery of Kepler-90i exolpanet. As NASA (2017) explains, they trained a neural network on a data set of 15,000 previously reviewed light signals from nearby star systems in order to reduce the false positive rate of the algorithm, and then they deployed the algorithm on weaker signals in order to detect more exoplanets in star systems that already had known exoplanets. So, it would be the goal of this project to build several classifiers, average the results of each classifier in order to develop a master classification method with high generalisation. \n",
        "\n",
        "\n",
        "Connection between existing methods and proposed method\n",
        "\n",
        "It is the proposal of this project to build three classification algorithms, a Random Forest, XGBoost and a Support Vector Machine. It is the goal of this project to utilise the methodological strengths of tree-based classification algorithms and also the strengths of the non-linear hyperplane separator of the Support Vector Machine in order to gleam different insights from the data set. Such an approach is grounded in the work of Dattilo  et al. (2011), where they built and tested 10 different neural networks, using the same parameters, in order to make predictions on the test set, and therefore average the results of each neural network to arrive at the final predictions on the test set. \n"
      ]
    },
    {
      "cell_type": "markdown",
      "metadata": {
        "id": "WD3epRHUeFTL",
        "colab_type": "text"
      },
      "source": [
        "\n",
        "# **RESEARCH PROJECT**\n",
        "\n",
        "The significance of this problem concerns the fields of astrophyics and astronomy, two very old and deeply routed fields of scientific enquiry for mankind. Nations have been exploring the cosmos with probes, telescopes and manned missions since the middle of the 20th century and now private companies are taking part in the exploration of the 'last frontier'. So, the discovery of, and learnings about, new planets in our galaxy could lead to developments in our understanding celestial bodies, what the probability is of other Earth-like planets existing in our galaxy is, and whether or not there is other life the Milky Way Galaxy/the universe. \n",
        "\n",
        "Over the 9 year lifespan of the telescopes operation, NASA would periodically release the data that Kepler had collected on the 150,000 stars that it was monitoring for the duration. Since Kepler was decomissioned at the end of 2018, NASA has just released another large data set which gives thr public the chance to analyse the data to potentially find new exoplanets orbiting the 150,000 stars observed. So, the interest in the project is the potential to discover a new planet. \n",
        "\n",
        "This project will use different machine learning methods to those previously used by researchers to differentiate exoplanets from non-exoplanet celestial objects/anomalies in the data. Moreover, the implementation of a composite-master model that is comprised of three different classifiers will be new innovation. Since this will be a supervised machine learning classification task, the following algorithms will be designed with the same variables, on the same training set, and the results of the three algorithms will be averaged to yield a composite-master classification model;\n",
        "\n",
        "\n",
        "*   Random Forest\n",
        "*   XGBoost\n",
        "*   Support Vector Machine\n",
        "\n",
        "\n",
        "**Problem Resolution**\n",
        "\n",
        "\n",
        "\n",
        "1.   Construction of the master data set from which the training validation/testing data sets will be constructed. \n",
        "2.   A literature review of the methodologies attempted previously which did and did not produce any results in terms of the discovery of new exoplanets. \n",
        "3.   Carrying out a cleanse of the data and application of data preprocessing techniques, such as data imputation and normalisation. \n",
        "4.   Conducting a thorough exploratory data analysis of all of the variables so as to gleam any new insights into the data which may aid the machine learning task \n",
        "5. Build a Random Forest classier, an XGBoost classifier and a Support-Vector Machine Classifier, train them on the training set and optimise each models hyperparameters. \n",
        "6. Test each of the three classifiers on the testing/validation data set so that the performance of each algorithm can be compared. \n",
        "7. Evaluate each model using a confusion matrix. \n",
        "8. Combine the results of each models predictions so as to produce the previously described composite-master model. \n",
        "9. Deploy the final model on similar data sets with different sets of observations so as to improve the model and potentially discover new, undiscovered explanets. \n",
        "\n",
        "\n",
        "\n",
        "**Outcomes and Benefits of the Project**\n",
        "\n",
        "The expected outcomes at the completion of such a project include; \n",
        "\n",
        "\n",
        "\n",
        "*   The development of a working algorithmic classifier that minimises the false-positive rate of which is comparable to that of the current state-of-the-art. \n",
        "*   The deployment of an algorithmic classifier that can competently classify exoplanets for further examination and confirmation by global observatories or space exploration agencies such a NASA. \n",
        "*   The composite-master model is able to identify a previously misclassified exoplanet as a exoplanet, therefore entering the official records of the International Astronomical Union (IAU). \n",
        "\n"
      ]
    },
    {
      "cell_type": "markdown",
      "metadata": {
        "id": "rCXs8HsTefdZ",
        "colab_type": "text"
      },
      "source": [
        ""
      ]
    },
    {
      "cell_type": "markdown",
      "metadata": {
        "id": "EYa0G4xdeIU7",
        "colab_type": "text"
      },
      "source": [
        "# **BUDGET**"
      ]
    },
    {
      "cell_type": "markdown",
      "metadata": {
        "id": "cX6gzlwfeJFb",
        "colab_type": "text"
      },
      "source": [
        "# **PERSONNEL**"
      ]
    },
    {
      "cell_type": "markdown",
      "metadata": {
        "id": "RUMDjXsneLQE",
        "colab_type": "text"
      },
      "source": [
        "# **REFERENCES**\n",
        "\n",
        "1. https://arxiv.org/pdf/1709.05941.pdf\n",
        "2. https://www.altoros.com/blog/how-nasa-uses-artificial-intelligence-to-detect-exoplanets/\n",
        "3. https://exoplanets.nasa.gov/resources/297/a-planets-transmission-spectrum/\n",
        "4. https://www.nasa.gov/press-release/artificial-intelligence-nasa-data-used-to-discover-eighth-planet-circling-distant-star (NASA 2017)\n",
        "5. https://www.cfa.harvard.edu/~avanderb/Deep_Learning_2.pdf (Dattilo et al. 2011)"
      ]
    }
  ]
}