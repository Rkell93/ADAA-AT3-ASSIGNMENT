{
  "nbformat": 4,
  "nbformat_minor": 0,
  "metadata": {
    "colab": {
      "name": "Untitled3.ipynb",
      "provenance": [],
      "collapsed_sections": [],
      "include_colab_link": true
    },
    "kernelspec": {
      "name": "python3",
      "display_name": "Python 3"
    }
  },
  "cells": [
    {
      "cell_type": "markdown",
      "metadata": {
        "id": "view-in-github",
        "colab_type": "text"
      },
      "source": [
        "<a href=\"https://colab.research.google.com/github/Rkell93/ADAA-AT3-ASSIGNMENT/blob/master/ADAA_AT3.ipynb\" target=\"_parent\"><img src=\"https://colab.research.google.com/assets/colab-badge.svg\" alt=\"Open In Colab\"/></a>"
      ]
    },
    {
      "cell_type": "markdown",
      "metadata": {
        "id": "6SVbntPvdNhr",
        "colab_type": "text"
      },
      "source": [
        "# The Detection of Exoplanets Orbiting Stars in the Milky Way Galaxy using data produced by the Kepler Space Telescope "
      ]
    },
    {
      "cell_type": "markdown",
      "metadata": {
        "id": "nfbDVDBNd-Ed",
        "colab_type": "text"
      },
      "source": [
        "# **AIMS**\n",
        "\n",
        "The wide-spread use of machine learning and artificial intelligence over the last decade has now made its way into the fields of astronomy and astrophysics via the data that is being captured and recorded by deep-space telescopes such as the Kepler Space Telescope. The Kepler Space Telescope measured the stellar flux for hundreds of thousands of stars (the amoung of light radiating from a star) over a 9 year time span, as explained by Turol (2018). Aronson & Piskunov (2018) described the scenario when a planet or other celestial object passes between the telescope and the star, a drop in the amount of light being radiated from the star occurs momentarily, this phenomenon is known as transit spectroscopy. Therefore, the purpose of this project is to be able to detect the momentary decreases in light emission from stars in the hope that they may be caused by exoplanets. \n",
        "\n",
        "The aim of this project is therefore to use the Kepler Space Telescope data, through the transmission spectroscopy methodology, to detect exoplanets orbiting stars in the Milky Way Galaxy. The described aim of this project can be further broken down into four primary objectives; \n",
        "\n",
        "1. Download open-source data (transit spectroscopy data) from the Kepler Space Telescope Archive in order to construct training and testing sets for the machine learning task. \n",
        "2. Given the nature of the task, to determine whether or not the data presents enough evidence for the existence of an orbiting exoplanet, the project will be designed as a classification task. Therefore, multiple classifiers will be built that can differentiate exoplanets from other celestial bodies that may be influencing the data.  \n",
        "3. Produce a composite-master model that encompasses all three classifiers through a method of averaging the results/predictions that each component model makes on a set of observations.\n",
        "4. Through the employment of an Astronmer and and Astrophysicist, conduct and reproduce experiments multiple times on data from different space telescopes in the hope of discovering a new exoplanet. "
      ]
    },
    {
      "cell_type": "markdown",
      "metadata": {
        "id": "UsT4RJOid_7c",
        "colab_type": "text"
      },
      "source": [
        "# **BACKGROUND**\n",
        "\n",
        " \n",
        "\n",
        "\n",
        "Given the complex nature of the problem, researchers previously employed the use of neural networks to resolve the problem. A recent success of the application of a neural network on the Kepler Space Telescope data set by NASA led to the discovery of the exoplanet Kepler-90i in 2017, as stated by Chou & Hawkes (2018). Moreover, a neural network was trained on a data set of 15,000 previously reviewed light signals from nearby star systems in order to reduce the false positive rate (the amount of misclassifications that model would make) of the algorithm, and then the algorithm was deployed on weaker signals in order to detect more exoplanets in star systems that already had known exoplanets, Chou & Hawkes (2018). So, it would be the goal of this project to adopt a similar model training scheme, as previsously described, and utilise a confusion matrix model evaluation methodology for the classification problem. In conjunction with such an approach, this project will innovate in the problem resolution strategy, by developing a composite-master model that does not involve a neuron-based classifier.\n",
        "\n",
        "\n",
        "It is the proposal of this project to build three classification algorithms, a Random Forest, XGBoost and a Support Vector Machine. Utilising the methodological strengths of tree-based classification algorithms and that of a non-linear separting hyperplane of the Support Vector Machine is hoped to discover different insights from the data set. This approach, a composite-master model comprised of three component models, is grounded in the work of Dattilo  et al. (2019), where they built and tested 10 different neural networks, using the same parameters, with different hyperparamter settings, in order to make predictions on the test set - the average of the prediction for each observation in the test set across all 10 models. Such an approach is prescribed in the hope that it will improve the generalisation ability of the final model. \n",
        "\n",
        "In order to innovate, this project will search for new exoplanets in a subset of the data set of which stars already have at least one exoplanet and design a composite-master classification model which will be derived of 3 independent classification models. \n"
      ]
    },
    {
      "cell_type": "markdown",
      "metadata": {
        "id": "WD3epRHUeFTL",
        "colab_type": "text"
      },
      "source": [
        "\n",
        "# **RESEARCH PROJECT**\n",
        "\n",
        "The significance of this problem concerns the fields of astrophyics and astronomy, two very old and deeply routed fields of scientific enquiry. Nations have been exploring the cosmos with probes, telescopes and manned missions since the middle of the 20th century, and now private companies are taking part in the exploration of the 'last frontier'. So, the discovery of, and learnings about, new planets in our galaxy could lead to developments in our understanding celestial bodies, what the probability is of other Earth-like planets existing in our galaxy is, and whether or not there is other life the Milky Way Galaxy/the universe. \n",
        "\n",
        "Over the 9 year lifespan of the Kepler Space Telescope's operation, NASA periodically released the data collected by Kepler which was data describing approximately 150,000 stars for the duration of the experiment. Since Kepler was decomissioned at the end of 2018, NASA recently released another large data set, giving the public the chance to analyse the data to potentially find new exoplanets orbiting the 150,000 stars observed. To reiterate, the interest in the project is the potential to discover a new planet. \n",
        "\n",
        "This project will use different machine learning methods to those previously used by researchers in order to differentiate exoplanets from non-exoplanet celestial objects/anomalies in the data. Moreover, it is the hope of the project that the implementation of a composite-master model that is comprised of three different classification algorithms will provide successful results and ultimate innovate in this field. Since this will be a supervised machine learning classification task, the following algorithms will be designed using the same variables, trained on the same training sample, tested on the same testing sample, and evaluated using the confusion matrix methodology; \n",
        "\n",
        "\n",
        "*   Random Forest\n",
        "*   XGBoost\n",
        "*   Support Vector Machine\n",
        "\n",
        "\n",
        "**Problem Resolution**\n",
        "\n",
        "\n",
        "\n",
        "1.   Construction of the master data set from which the training/testing data set samples will be constructed. \n",
        "2.   A literature review of the methodologies attempted previously which did and did not produce any results in terms of the discovery of new exoplanets. \n",
        "3.   Carrying out a cleanse of the data set and applying relevant data preprocessing techniques.  \n",
        "4.   Conducting a thorough exploratory data analysis of all of the variables in the data set so as to find insights which may aid the machine learning task. \n",
        "5. Build a Random Forest classier, an XGBoost classifier and a Support-Vector Machine Classifier, train them on the training set and optimise each model's hyperparameters. \n",
        "6. Test each of the three classifiers on the testing data set sample so that the performance of each algorithm can be compared accurately. \n",
        "7. Evaluate each model using the confusion matrix methodology. \n",
        "8. Combine the results of each models predictions so as to produce the previously described composite-master model. \n",
        "9. Deploy the composite-master model on the new, continually released Kepler data sets, and the historical data sets, in the hope that the new exoplanet discoveries can be made by the model. \n",
        "\n",
        "**Project Timeline**\n",
        "\n",
        "* Step 1: 4 weeks\n",
        "* Step 2: 4 weeks\n",
        "* Step 3: 4 weeks\n",
        "* Step 4: 4 weeks\n",
        "* Step 5: 16 weeks\n",
        "* Step 6: 8 weeks\n",
        "* Step 7: 4 weeks\n",
        "* Step 8: 4 weeks\n",
        "* Step 9: 4 weeks\n",
        "\n",
        "\n",
        "\n",
        "**Outcomes and Benefits of the Project**\n",
        "\n",
        "The expected outcomes at the completion of such a project include; \n",
        "\n",
        "\n",
        "\n",
        "*   The development of a working algorithmic classifier that minimises the false-positive rate that is comparable to the current state-of-the-art. \n",
        "*   The deployment of an algorithmic classifier that can competently classify exoplanets for further examination and confirmation by global observatories or space exploration agencies such a NASA. \n",
        "*   The composite-master model is able to identify and classify correctly new exoplanets from the Kepler Space Telescope data, therefore entering a new planet into the official records of the International Astronomical Union (IAU). \n",
        "\n",
        "An investor in such a project would be benefit primarily from the academic findings and contributions to the fields of astronomy and astrophyics via potential advances in astronomical science and transit spectroscopy analysis. Moreover, the success of such a project could lead to further funding from third parties such as educational institutions in order for the project to continue its research and search for proof of more exoplanets. \n"
      ]
    },
    {
      "cell_type": "markdown",
      "metadata": {
        "id": "EYa0G4xdeIU7",
        "colab_type": "text"
      },
      "source": [
        "# **BUDGET**\n",
        "\n",
        "The budget for such a project is based in the services cost of knowledge, hardware and office space. The major cost of the project will stem directly from the wages paid to the team members over the one year time span. Due to the technical and academic nature of this project, a team of 5 people will required to apply the scientific and academic rigor necessary in order to be able to solve the problem and potentially make a new scientific discovery. Therefore, the budget for such a project is as follows;\n",
        "\n",
        "\n",
        "*   The mean annual salary for an Astronomer is 89,700 AUD, according to Payscale (2019)\n",
        "*   The mean annual salary for an Astrophysicist is 97,200 AUD, according to Payscale (2019)\n",
        "*   The mean annual salary for a Statistician is 72,700 AUD, according to Payscale (2019)\n",
        "*   The average annual salary for a Data Scientist is 96,000 AUD per person, according to Paysale (2019)\n",
        "*   The cost of 1 Apple Macbook laptop computer is 1,999 AUD, therefore, 5 would cost 9,995 AUD, according to Apple (2019)\n",
        "*   2000 hours of Amazon Web Services EC2 access costs approximately 10,000 AUD, according to AWS (2019)\n",
        "*   The cost to lease an office space for one year is approximately 1,000 AUD per week, therefore, this would equate to approximately 50,000 AUD for one year, according to realcommercial.com.au (2019)\n",
        "\n",
        "Therefore, the total cost of this project would total approximately 520,000 AUD. \n",
        "\n",
        "\n",
        "\n"
      ]
    },
    {
      "cell_type": "markdown",
      "metadata": {
        "id": "cX6gzlwfeJFb",
        "colab_type": "text"
      },
      "source": [
        "# **PERSONNEL**\n",
        "\n",
        "The project will encompass 5 people from 4 different fields. A consulting Astronomer will assist with the analysis in respect to the behaviour of exoplanets and different types of star systems and how this influences the data. An Astrophysicist will be required to consult on the application of the transit spectroscopy theory to the data analysis and how this knowledge can help us to model the data more effectively. A Statistician will be employed to engage with the manipulation of the data and explore the ways in which the data can be manipulated in order to yield better model performance. Finally, two Data Scientists will be employed in order to build the required machine learning models, assist the statistician with data transformation, and adapt the opinions and ideas of the employed Astronomer and Astrophysicist into the modelling process, bringing the project to life. "
      ]
    },
    {
      "cell_type": "markdown",
      "metadata": {
        "id": "RUMDjXsneLQE",
        "colab_type": "text"
      },
      "source": [
        "# **REFERENCES**\n",
        "\n",
        "\n",
        "Apple 2019, *MacBook Pro*, Apple, viewed 8 October 2019, < https://www.apple.com/au/shop/buy-mac/macbook-pro?afid=p238%7CsR56j2tB0-dc_mtid_18707vxu38484_pcrid_362675504861_pgrid_13939512022_&cid=aos-au-kwgo-mac--slid-NoDyByLj--+macbook++pro-b-product- >. \n",
        "\n",
        "\n",
        "Aronson, E. & Piskunov, N. 2018, 'Model-independent Exoplanet Transit Spectroscopy', *The Astronomical Journal*, vol. 155, no. 5, pp. 1-15. \n",
        "\n",
        "\n",
        "AWS 2019, *Simple Monthly Calculator*, Amazon Web Services, viewed 6 October 2019, < https://calculator.s3.amazonaws.com/index.html >. \n",
        "\n",
        "\n",
        "Chou, F., Hawkes, A. 2018, *Artificial Intelligence, NASA Data Used to Discover Eighth Planet Circling Distant Star*, NASA, viewed 1 October 2019, < https://www.nasa.gov/press-release/artificial-intelligence-nasa-data-used-to-discover-eighth-planet-circling-distant-star >.\n",
        "\n",
        "\n",
        "Dattilo, A., Vanderburg, A., Shallue, C., Mayo, A., Berlind, P., Bieryla, A., Calkins, M., Esquerdo, G., Everett, M., Howell, S., Latham, D., Scott, N., Yu, L. 2019, 'Identifying Exoplanets with Deep Learning II: Two New Super-Earths Uncovered by a Neural Network in K2 Data', *The Astronomical Journal*, vol. 157, pp. 1-18. \n",
        "\n",
        "Payscale 2019, *Search Job Salaries*, Payscale, viewed 5 October 2019, < https://www.payscale.com/research/US/Job >. \n",
        "\n",
        "realcommercial.com.au 2019, *Offices For Lease in Sydney, NSW 2000*, realcommercial.com.au, viewed 8 October 2019, < https://www.realcommercial.com.au/for-lease/sydney-nsw-2000/offices/?autoSuggest=true&includePropertiesWithin=includesurrounding&keywords=5%2Bperson&maxFloorArea=400&maxPrice=70000 >. \n",
        "\n",
        "Turol, S. 2018, *How NASA Uses Artificial Intelligence to Detect Exoplanets*, Altoros, viewed 1 October 2019, <https://www.altoros.com/blog/how-nasa-uses-artificial-intelligence-to-detect-exoplanets/ >.\n",
        "\n",
        "\n",
        "\n",
        "\n",
        "\n",
        "\n",
        "\n",
        "\n"
      ]
    }
  ]
}